{
 "cells": [
  {
   "cell_type": "code",
   "execution_count": 1,
   "metadata": {},
   "outputs": [
    {
     "name": "stdout",
     "output_type": "stream",
     "text": [
      "Всем привет\n"
     ]
    }
   ],
   "source": [
    "print(\"Всем привет\")"
   ]
  },
  {
   "cell_type": "code",
   "execution_count": 2,
   "metadata": {},
   "outputs": [],
   "source": [
    "# shift + enter"
   ]
  },
  {
   "cell_type": "code",
   "execution_count": 3,
   "metadata": {},
   "outputs": [
    {
     "name": "stdout",
     "output_type": "stream",
     "text": [
      "Компания Skillbox\n",
      "Приветствует вас на интенсиве\n"
     ]
    }
   ],
   "source": [
    "print(\"Компания Skillbox\")\n",
    "print(\"Приветствует вас на интенсиве\")"
   ]
  },
  {
   "cell_type": "code",
   "execution_count": 4,
   "metadata": {},
   "outputs": [],
   "source": [
    "company = \"Скиллбокс\"\n",
    "intensive = \"Дата Сайенс\"\n",
    "duration = 120"
   ]
  },
  {
   "cell_type": "code",
   "execution_count": 5,
   "metadata": {},
   "outputs": [
    {
     "name": "stdout",
     "output_type": "stream",
     "text": [
      "Вас приветствует компания Скиллбокс\n",
      "Вы слушаете интенсив по Дата Сайенс, его длительность 120 минут\n"
     ]
    }
   ],
   "source": [
    "print(f\"Вас приветствует компания {company}\")\n",
    "print(f\"Вы слушаете интенсив по {intensive}, его длительность {duration} минут\")"
   ]
  },
  {
   "cell_type": "code",
   "execution_count": 6,
   "metadata": {},
   "outputs": [
    {
     "name": "stdout",
     "output_type": "stream",
     "text": [
      "Вас приветствует компания ООО Скиллбокс\n",
      "Вы слушаете интенсив по Дата Сайенс, его длительность 2.0 часов\n"
     ]
    }
   ],
   "source": [
    "company = \"ООО \" + company\n",
    "duration_hours = duration / 60 \n",
    "print(f\"Вас приветствует компания {company}\")\n",
    "print(f\"Вы слушаете интенсив по {intensive}, его длительность {duration_hours} часов\")"
   ]
  },
  {
   "cell_type": "code",
   "execution_count": 7,
   "metadata": {},
   "outputs": [
    {
     "data": {
      "text/plain": [
       "219.1304347826087"
      ]
     },
     "execution_count": 7,
     "metadata": {},
     "output_type": "execute_result"
    }
   ],
   "source": [
    "24*7*60 / 46"
   ]
  },
  {
   "cell_type": "code",
   "execution_count": 8,
   "metadata": {},
   "outputs": [
    {
     "name": "stdout",
     "output_type": "stream",
     "text": [
      "[2000, 1000, 500, 8000, -45]\n"
     ]
    }
   ],
   "source": [
    "income = [2000, 1000, 500, 8000, -45]\n",
    "print(income)"
   ]
  },
  {
   "cell_type": "code",
   "execution_count": 9,
   "metadata": {},
   "outputs": [
    {
     "data": {
      "text/plain": [
       "11455"
      ]
     },
     "execution_count": 9,
     "metadata": {},
     "output_type": "execute_result"
    }
   ],
   "source": [
    "sum(income)"
   ]
  },
  {
   "cell_type": "code",
   "execution_count": 10,
   "metadata": {},
   "outputs": [
    {
     "data": {
      "text/plain": [
       "5"
      ]
     },
     "execution_count": 10,
     "metadata": {},
     "output_type": "execute_result"
    }
   ],
   "source": [
    "len(income)"
   ]
  },
  {
   "cell_type": "code",
   "execution_count": 11,
   "metadata": {},
   "outputs": [
    {
     "data": {
      "text/plain": [
       "2291.0"
      ]
     },
     "execution_count": 11,
     "metadata": {},
     "output_type": "execute_result"
    }
   ],
   "source": [
    "sum(income) / len(income)"
   ]
  },
  {
   "cell_type": "code",
   "execution_count": 12,
   "metadata": {},
   "outputs": [],
   "source": [
    "import pandas"
   ]
  },
  {
   "cell_type": "code",
   "execution_count": 13,
   "metadata": {},
   "outputs": [],
   "source": [
    "trips = pandas.read_excel(\"trips_data.xlsx\", index_col=0)"
   ]
  },
  {
   "cell_type": "code",
   "execution_count": 14,
   "metadata": {
    "scrolled": true
   },
   "outputs": [
    {
     "data": {
      "text/html": [
       "<div>\n",
       "<style scoped>\n",
       "    .dataframe tbody tr th:only-of-type {\n",
       "        vertical-align: middle;\n",
       "    }\n",
       "\n",
       "    .dataframe tbody tr th {\n",
       "        vertical-align: top;\n",
       "    }\n",
       "\n",
       "    .dataframe thead th {\n",
       "        text-align: right;\n",
       "    }\n",
       "</style>\n",
       "<table border=\"1\" class=\"dataframe\">\n",
       "  <thead>\n",
       "    <tr style=\"text-align: right;\">\n",
       "      <th></th>\n",
       "      <th>salary</th>\n",
       "      <th>city</th>\n",
       "      <th>age</th>\n",
       "      <th>vacation_preference</th>\n",
       "      <th>transport_preference</th>\n",
       "      <th>family_members</th>\n",
       "      <th>target</th>\n",
       "    </tr>\n",
       "  </thead>\n",
       "  <tbody>\n",
       "    <tr>\n",
       "      <th>0</th>\n",
       "      <td>196000</td>\n",
       "      <td>Краснодар</td>\n",
       "      <td>25</td>\n",
       "      <td>Шоппинг</td>\n",
       "      <td>Автомобиль</td>\n",
       "      <td>1</td>\n",
       "      <td>New York</td>\n",
       "    </tr>\n",
       "    <tr>\n",
       "      <th>1</th>\n",
       "      <td>152000</td>\n",
       "      <td>Екатеринбург</td>\n",
       "      <td>60</td>\n",
       "      <td>Архитектура</td>\n",
       "      <td>Самолет</td>\n",
       "      <td>1</td>\n",
       "      <td>London</td>\n",
       "    </tr>\n",
       "    <tr>\n",
       "      <th>2</th>\n",
       "      <td>83000</td>\n",
       "      <td>Томск</td>\n",
       "      <td>49</td>\n",
       "      <td>Архитектура</td>\n",
       "      <td>Автомобиль</td>\n",
       "      <td>2</td>\n",
       "      <td>Sydney</td>\n",
       "    </tr>\n",
       "    <tr>\n",
       "      <th>3</th>\n",
       "      <td>161000</td>\n",
       "      <td>Краснодар</td>\n",
       "      <td>41</td>\n",
       "      <td>Шоппинг</td>\n",
       "      <td>Автомобиль</td>\n",
       "      <td>0</td>\n",
       "      <td>New York</td>\n",
       "    </tr>\n",
       "    <tr>\n",
       "      <th>4</th>\n",
       "      <td>146000</td>\n",
       "      <td>Краснодар</td>\n",
       "      <td>58</td>\n",
       "      <td>Архитектура</td>\n",
       "      <td>Самолет</td>\n",
       "      <td>1</td>\n",
       "      <td>Sydney</td>\n",
       "    </tr>\n",
       "    <tr>\n",
       "      <th>5</th>\n",
       "      <td>209000</td>\n",
       "      <td>Новосибирск</td>\n",
       "      <td>55</td>\n",
       "      <td>Архитектура</td>\n",
       "      <td>Самолет</td>\n",
       "      <td>2</td>\n",
       "      <td>Tokio</td>\n",
       "    </tr>\n",
       "    <tr>\n",
       "      <th>6</th>\n",
       "      <td>59000</td>\n",
       "      <td>Минск</td>\n",
       "      <td>53</td>\n",
       "      <td>Пляжный отдых</td>\n",
       "      <td>Автомобиль</td>\n",
       "      <td>1</td>\n",
       "      <td>London</td>\n",
       "    </tr>\n",
       "    <tr>\n",
       "      <th>7</th>\n",
       "      <td>73000</td>\n",
       "      <td>Хабаровск</td>\n",
       "      <td>55</td>\n",
       "      <td>Шоппинг</td>\n",
       "      <td>Поезд</td>\n",
       "      <td>2</td>\n",
       "      <td>New York</td>\n",
       "    </tr>\n",
       "    <tr>\n",
       "      <th>8</th>\n",
       "      <td>216000</td>\n",
       "      <td>Томск</td>\n",
       "      <td>75</td>\n",
       "      <td>Шоппинг</td>\n",
       "      <td>Самолет</td>\n",
       "      <td>1</td>\n",
       "      <td>Sydney</td>\n",
       "    </tr>\n",
       "    <tr>\n",
       "      <th>9</th>\n",
       "      <td>56000</td>\n",
       "      <td>Киев</td>\n",
       "      <td>60</td>\n",
       "      <td>Шоппинг</td>\n",
       "      <td>Автомобиль</td>\n",
       "      <td>2</td>\n",
       "      <td>New York</td>\n",
       "    </tr>\n",
       "  </tbody>\n",
       "</table>\n",
       "</div>"
      ],
      "text/plain": [
       "   salary          city  age vacation_preference transport_preference  \\\n",
       "0  196000     Краснодар   25             Шоппинг           Автомобиль   \n",
       "1  152000  Екатеринбург   60         Архитектура              Самолет   \n",
       "2   83000         Томск   49         Архитектура           Автомобиль   \n",
       "3  161000     Краснодар   41             Шоппинг           Автомобиль   \n",
       "4  146000     Краснодар   58         Архитектура              Самолет   \n",
       "5  209000   Новосибирск   55         Архитектура              Самолет   \n",
       "6   59000         Минск   53       Пляжный отдых           Автомобиль   \n",
       "7   73000     Хабаровск   55             Шоппинг                Поезд   \n",
       "8  216000         Томск   75             Шоппинг              Самолет   \n",
       "9   56000          Киев   60             Шоппинг           Автомобиль   \n",
       "\n",
       "   family_members    target  \n",
       "0               1  New York  \n",
       "1               1    London  \n",
       "2               2    Sydney  \n",
       "3               0  New York  \n",
       "4               1    Sydney  \n",
       "5               2     Tokio  \n",
       "6               1    London  \n",
       "7               2  New York  \n",
       "8               1    Sydney  \n",
       "9               2  New York  "
      ]
     },
     "execution_count": 14,
     "metadata": {},
     "output_type": "execute_result"
    }
   ],
   "source": [
    "trips.head(10)"
   ]
  },
  {
   "cell_type": "code",
   "execution_count": 15,
   "metadata": {},
   "outputs": [
    {
     "data": {
      "text/plain": [
       "count      1000.000000\n",
       "mean     111935.000000\n",
       "std       54580.049073\n",
       "min           0.000000\n",
       "25%       68000.000000\n",
       "50%       99000.000000\n",
       "75%      161000.000000\n",
       "max      250000.000000\n",
       "Name: salary, dtype: float64"
      ]
     },
     "execution_count": 15,
     "metadata": {},
     "output_type": "execute_result"
    }
   ],
   "source": [
    "trips.salary.describe()"
   ]
  },
  {
   "cell_type": "code",
   "execution_count": 17,
   "metadata": {},
   "outputs": [
    {
     "data": {
      "text/plain": [
       "<matplotlib.axes._subplots.AxesSubplot at 0x1b830a92f28>"
      ]
     },
     "execution_count": 17,
     "metadata": {},
     "output_type": "execute_result"
    },
    {
     "data": {
      "image/png": "[encoded data removed]",
      "text/plain": [
       "<Figure size 432x288 with 1 Axes>"
      ]
     },
     "metadata": {
      "needs_background": "light"
     },
     "output_type": "display_data"
    }
   ],
   "source": [
    "trips.salary.hist()"
   ]
  },
  {
   "cell_type": "code",
   "execution_count": 18,
   "metadata": {},
   "outputs": [
    {
     "data": {
      "text/plain": [
       "Краснодар       307\n",
       "Томск           267\n",
       "Хабаровск       107\n",
       "Киев            106\n",
       "Омск             84\n",
       "Екатеринбург     67\n",
       "Новосибирск      33\n",
       "Минск            14\n",
       "Петербург        13\n",
       "Москва            1\n",
       "Ярославль         1\n",
       "Name: city, dtype: int64"
      ]
     },
     "execution_count": 18,
     "metadata": {},
     "output_type": "execute_result"
    }
   ],
   "source": [
    "trips.city.value_counts()"
   ]
  },
  {
   "cell_type": "code",
   "execution_count": 19,
   "metadata": {},
   "outputs": [
    {
     "data": {
      "text/plain": [
       "<matplotlib.axes._subplots.AxesSubplot at 0x1b830b192e8>"
      ]
     },
     "execution_count": 19,
     "metadata": {},
     "output_type": "execute_result"
    },
    {
     "data": {
      "image/png": "[encoded data removed]",
      "text/plain": [
       "<Figure size 432x288 with 1 Axes>"
      ]
     },
     "metadata": {
      "needs_background": "light"
     },
     "output_type": "display_data"
    }
   ],
   "source": [
    "trips.city.value_counts().plot(kind='bar')"
   ]
  },
  {
   "cell_type": "code",
   "execution_count": 20,
   "metadata": {},
   "outputs": [
    {
     "data": {
      "text/plain": [
       "<matplotlib.axes._subplots.AxesSubplot at 0x1b830bb6358>"
      ]
     },
     "execution_count": 20,
     "metadata": {},
     "output_type": "execute_result"
    },
    {
     "data": {
      "image/png": "[encoded data removed]",
      "text/plain": [
       "<Figure size 432x288 with 1 Axes>"
      ]
     },
     "metadata": {
      "needs_background": "light"
     },
     "output_type": "display_data"
    }
   ],
   "source": [
    "trips.transport_preference.value_counts().plot(kind='bar')"
   ]
  },
  {
   "cell_type": "code",
   "execution_count": 21,
   "metadata": {},
   "outputs": [
    {
     "data": {
      "text/plain": [
       "<matplotlib.axes._subplots.AxesSubplot at 0x1b830c24048>"
      ]
     },
     "execution_count": 21,
     "metadata": {},
     "output_type": "execute_result"
    },
    {
     "data": {
      "image/png": "[encoded data removed]",
      "text/plain": [
       "<Figure size 432x288 with 1 Axes>"
      ]
     },
     "metadata": {
      "needs_background": "light"
     },
     "output_type": "display_data"
    }
   ],
   "source": [
    "trips.target.value_counts().plot(kind='bar')"
   ]
  },
  {
   "cell_type": "code",
   "execution_count": 22,
   "metadata": {},
   "outputs": [
    {
     "data": {
      "text/html": [
       "<div>\n",
       "<style scoped>\n",
       "    .dataframe tbody tr th:only-of-type {\n",
       "        vertical-align: middle;\n",
       "    }\n",
       "\n",
       "    .dataframe tbody tr th {\n",
       "        vertical-align: top;\n",
       "    }\n",
       "\n",
       "    .dataframe thead th {\n",
       "        text-align: right;\n",
       "    }\n",
       "</style>\n",
       "<table border=\"1\" class=\"dataframe\">\n",
       "  <thead>\n",
       "    <tr style=\"text-align: right;\">\n",
       "      <th></th>\n",
       "      <th>salary</th>\n",
       "      <th>city</th>\n",
       "      <th>age</th>\n",
       "      <th>vacation_preference</th>\n",
       "      <th>transport_preference</th>\n",
       "      <th>family_members</th>\n",
       "      <th>target</th>\n",
       "    </tr>\n",
       "  </thead>\n",
       "  <tbody>\n",
       "    <tr>\n",
       "      <th>0</th>\n",
       "      <td>196000</td>\n",
       "      <td>Краснодар</td>\n",
       "      <td>25</td>\n",
       "      <td>Шоппинг</td>\n",
       "      <td>Автомобиль</td>\n",
       "      <td>1</td>\n",
       "      <td>New York</td>\n",
       "    </tr>\n",
       "    <tr>\n",
       "      <th>1</th>\n",
       "      <td>152000</td>\n",
       "      <td>Екатеринбург</td>\n",
       "      <td>60</td>\n",
       "      <td>Архитектура</td>\n",
       "      <td>Самолет</td>\n",
       "      <td>1</td>\n",
       "      <td>London</td>\n",
       "    </tr>\n",
       "    <tr>\n",
       "      <th>2</th>\n",
       "      <td>83000</td>\n",
       "      <td>Томск</td>\n",
       "      <td>49</td>\n",
       "      <td>Архитектура</td>\n",
       "      <td>Автомобиль</td>\n",
       "      <td>2</td>\n",
       "      <td>Sydney</td>\n",
       "    </tr>\n",
       "    <tr>\n",
       "      <th>3</th>\n",
       "      <td>161000</td>\n",
       "      <td>Краснодар</td>\n",
       "      <td>41</td>\n",
       "      <td>Шоппинг</td>\n",
       "      <td>Автомобиль</td>\n",
       "      <td>0</td>\n",
       "      <td>New York</td>\n",
       "    </tr>\n",
       "    <tr>\n",
       "      <th>4</th>\n",
       "      <td>146000</td>\n",
       "      <td>Краснодар</td>\n",
       "      <td>58</td>\n",
       "      <td>Архитектура</td>\n",
       "      <td>Самолет</td>\n",
       "      <td>1</td>\n",
       "      <td>Sydney</td>\n",
       "    </tr>\n",
       "    <tr>\n",
       "      <th>...</th>\n",
       "      <td>...</td>\n",
       "      <td>...</td>\n",
       "      <td>...</td>\n",
       "      <td>...</td>\n",
       "      <td>...</td>\n",
       "      <td>...</td>\n",
       "      <td>...</td>\n",
       "    </tr>\n",
       "    <tr>\n",
       "      <th>995</th>\n",
       "      <td>81000</td>\n",
       "      <td>Краснодар</td>\n",
       "      <td>55</td>\n",
       "      <td>Пляжный отдых</td>\n",
       "      <td>Морской транспорт</td>\n",
       "      <td>2</td>\n",
       "      <td>Paris</td>\n",
       "    </tr>\n",
       "    <tr>\n",
       "      <th>996</th>\n",
       "      <td>96000</td>\n",
       "      <td>Краснодар</td>\n",
       "      <td>32</td>\n",
       "      <td>Архитектура</td>\n",
       "      <td>Поезд</td>\n",
       "      <td>1</td>\n",
       "      <td>Paris</td>\n",
       "    </tr>\n",
       "    <tr>\n",
       "      <th>997</th>\n",
       "      <td>56000</td>\n",
       "      <td>Краснодар</td>\n",
       "      <td>68</td>\n",
       "      <td>Архитектура</td>\n",
       "      <td>Самолет</td>\n",
       "      <td>2</td>\n",
       "      <td>Paris</td>\n",
       "    </tr>\n",
       "    <tr>\n",
       "      <th>998</th>\n",
       "      <td>162000</td>\n",
       "      <td>Краснодар</td>\n",
       "      <td>69</td>\n",
       "      <td>Архитектура</td>\n",
       "      <td>Самолет</td>\n",
       "      <td>0</td>\n",
       "      <td>Sydney</td>\n",
       "    </tr>\n",
       "    <tr>\n",
       "      <th>999</th>\n",
       "      <td>171000</td>\n",
       "      <td>Краснодар</td>\n",
       "      <td>35</td>\n",
       "      <td>Архитектура</td>\n",
       "      <td>Автомобиль</td>\n",
       "      <td>1</td>\n",
       "      <td>New York</td>\n",
       "    </tr>\n",
       "  </tbody>\n",
       "</table>\n",
       "<p>1000 rows × 7 columns</p>\n",
       "</div>"
      ],
      "text/plain": [
       "     salary          city  age vacation_preference transport_preference  \\\n",
       "0    196000     Краснодар   25             Шоппинг           Автомобиль   \n",
       "1    152000  Екатеринбург   60         Архитектура              Самолет   \n",
       "2     83000         Томск   49         Архитектура           Автомобиль   \n",
       "3    161000     Краснодар   41             Шоппинг           Автомобиль   \n",
       "4    146000     Краснодар   58         Архитектура              Самолет   \n",
       "..      ...           ...  ...                 ...                  ...   \n",
       "995   81000     Краснодар   55       Пляжный отдых    Морской транспорт   \n",
       "996   96000     Краснодар   32         Архитектура                Поезд   \n",
       "997   56000     Краснодар   68         Архитектура              Самолет   \n",
       "998  162000     Краснодар   69         Архитектура              Самолет   \n",
       "999  171000     Краснодар   35         Архитектура           Автомобиль   \n",
       "\n",
       "     family_members    target  \n",
       "0                 1  New York  \n",
       "1                 1    London  \n",
       "2                 2    Sydney  \n",
       "3                 0  New York  \n",
       "4                 1    Sydney  \n",
       "..              ...       ...  \n",
       "995               2     Paris  \n",
       "996               1     Paris  \n",
       "997               2     Paris  \n",
       "998               0    Sydney  \n",
       "999               1  New York  \n",
       "\n",
       "[1000 rows x 7 columns]"
      ]
     },
     "execution_count": 22,
     "metadata": {},
     "output_type": "execute_result"
    }
   ],
   "source": [
    "trips"
   ]
  },
  {
   "cell_type": "code",
   "execution_count": 23,
   "metadata": {},
   "outputs": [],
   "source": [
    "df = pandas.get_dummies(trips, columns=['city', 'vacation_preference', 'transport_preference'])"
   ]
  },
  {
   "cell_type": "code",
   "execution_count": 24,
   "metadata": {},
   "outputs": [],
   "source": [
    "X = df.drop('target', axis=1) # То, на основе чего мы делаем прогноз"
   ]
  },
  {
   "cell_type": "code",
   "execution_count": 25,
   "metadata": {},
   "outputs": [],
   "source": [
    "y = df['target'] # То, что мы пытаемся спрогнозировать"
   ]
  },
  {
   "cell_type": "code",
   "execution_count": null,
   "metadata": {},
   "outputs": [],
   "source": []
  },
  {
   "cell_type": "code",
   "execution_count": 26,
   "metadata": {},
   "outputs": [],
   "source": [
    "from sklearn.ensemble import RandomForestClassifier"
   ]
  },
  {
   "cell_type": "code",
   "execution_count": 27,
   "metadata": {},
   "outputs": [],
   "source": [
    "model = RandomForestClassifier()"
   ]
  },
  {
   "cell_type": "code",
   "execution_count": 28,
   "metadata": {},
   "outputs": [
    {
     "name": "stderr",
     "output_type": "stream",
     "text": [
      "D:\\Anaconda\\lib\\site-packages\\sklearn\\ensemble\\forest.py:245: FutureWarning: The default value of n_estimators will change from 10 in version 0.20 to 100 in 0.22.\n",
      "  \"10 in version 0.20 to 100 in 0.22.\", FutureWarning)\n"
     ]
    },
    {
     "data": {
      "text/plain": [
       "RandomForestClassifier(bootstrap=True, class_weight=None, criterion='gini',\n",
       "                       max_depth=None, max_features='auto', max_leaf_nodes=None,\n",
       "                       min_impurity_decrease=0.0, min_impurity_split=None,\n",
       "                       min_samples_leaf=1, min_samples_split=2,\n",
       "                       min_weight_fraction_leaf=0.0, n_estimators=10,\n",
       "                       n_jobs=None, oob_score=False, random_state=None,\n",
       "                       verbose=0, warm_start=False)"
      ]
     },
     "execution_count": 28,
     "metadata": {},
     "output_type": "execute_result"
    }
   ],
   "source": [
    "model.fit(X, y)"
   ]
  },
  {
   "cell_type": "code",
   "execution_count": 29,
   "metadata": {},
   "outputs": [
    {
     "data": {
      "text/plain": [
       "{'salary': [0],\n",
       " 'age': [0],\n",
       " 'family_members': [0],\n",
       " 'city_Екатеринбург': [0],\n",
       " 'city_Киев': [0],\n",
       " 'city_Краснодар': [0],\n",
       " 'city_Минск': [0],\n",
       " 'city_Москва': [0],\n",
       " 'city_Новосибирск': [0],\n",
       " 'city_Омск': [0],\n",
       " 'city_Петербург': [0],\n",
       " 'city_Томск': [0],\n",
       " 'city_Хабаровск': [0],\n",
       " 'city_Ярославль': [0],\n",
       " 'vacation_preference_Архитектура': [0],\n",
       " 'vacation_preference_Ночные клубы': [0],\n",
       " 'vacation_preference_Пляжный отдых': [0],\n",
       " 'vacation_preference_Шоппинг': [0],\n",
       " 'transport_preference_Автомобиль': [0],\n",
       " 'transport_preference_Космический корабль': [0],\n",
       " 'transport_preference_Морской транспорт': [0],\n",
       " 'transport_preference_Поезд': [0],\n",
       " 'transport_preference_Самолет': [0]}"
      ]
     },
     "execution_count": 29,
     "metadata": {},
     "output_type": "execute_result"
    }
   ],
   "source": [
    "{i:[0] for i in X.columns}"
   ]
  },
  {
   "cell_type": "code",
   "execution_count": 30,
   "metadata": {},
   "outputs": [],
   "source": [
    "example = {\n",
    " 'salary': [120000],\n",
    " 'age': [35],\n",
    " 'family_members': [1],\n",
    " 'city_Екатеринбург': [0],\n",
    " 'city_Киев': [0],\n",
    " 'city_Краснодар': [0],\n",
    " 'city_Минск': [0],\n",
    " 'city_Москва': [0],\n",
    " 'city_Новосибирск': [0],\n",
    " 'city_Омск': [0],\n",
    " 'city_Петербург': [0],\n",
    " 'city_Томск': [0],\n",
    " 'city_Хабаровск': [1],\n",
    " 'city_Ярославль': [0],\n",
    " 'vacation_preference_Архитектура': [1],\n",
    " 'vacation_preference_Ночные клубы': [0],\n",
    " 'vacation_preference_Пляжный отдых': [0],\n",
    " 'vacation_preference_Шоппинг': [0],\n",
    " 'transport_preference_Автомобиль': [0],\n",
    " 'transport_preference_Космический корабль': [0],\n",
    " 'transport_preference_Морской транспорт': [0],\n",
    " 'transport_preference_Поезд': [0],\n",
    " 'transport_preference_Самолет': [1]}"
   ]
  },
  {
   "cell_type": "code",
   "execution_count": 31,
   "metadata": {},
   "outputs": [],
   "source": [
    "example_df = pandas.DataFrame(example)"
   ]
  },
  {
   "cell_type": "code",
   "execution_count": 32,
   "metadata": {},
   "outputs": [
    {
     "data": {
      "text/html": [
       "<div>\n",
       "<style scoped>\n",
       "    .dataframe tbody tr th:only-of-type {\n",
       "        vertical-align: middle;\n",
       "    }\n",
       "\n",
       "    .dataframe tbody tr th {\n",
       "        vertical-align: top;\n",
       "    }\n",
       "\n",
       "    .dataframe thead th {\n",
       "        text-align: right;\n",
       "    }\n",
       "</style>\n",
       "<table border=\"1\" class=\"dataframe\">\n",
       "  <thead>\n",
       "    <tr style=\"text-align: right;\">\n",
       "      <th></th>\n",
       "      <th>salary</th>\n",
       "      <th>age</th>\n",
       "      <th>family_members</th>\n",
       "      <th>city_Екатеринбург</th>\n",
       "      <th>city_Киев</th>\n",
       "      <th>city_Краснодар</th>\n",
       "      <th>city_Минск</th>\n",
       "      <th>city_Москва</th>\n",
       "      <th>city_Новосибирск</th>\n",
       "      <th>city_Омск</th>\n",
       "      <th>...</th>\n",
       "      <th>city_Ярославль</th>\n",
       "      <th>vacation_preference_Архитектура</th>\n",
       "      <th>vacation_preference_Ночные клубы</th>\n",
       "      <th>vacation_preference_Пляжный отдых</th>\n",
       "      <th>vacation_preference_Шоппинг</th>\n",
       "      <th>transport_preference_Автомобиль</th>\n",
       "      <th>transport_preference_Космический корабль</th>\n",
       "      <th>transport_preference_Морской транспорт</th>\n",
       "      <th>transport_preference_Поезд</th>\n",
       "      <th>transport_preference_Самолет</th>\n",
       "    </tr>\n",
       "  </thead>\n",
       "  <tbody>\n",
       "    <tr>\n",
       "      <th>0</th>\n",
       "      <td>120000</td>\n",
       "      <td>35</td>\n",
       "      <td>1</td>\n",
       "      <td>0</td>\n",
       "      <td>0</td>\n",
       "      <td>0</td>\n",
       "      <td>0</td>\n",
       "      <td>0</td>\n",
       "      <td>0</td>\n",
       "      <td>0</td>\n",
       "      <td>...</td>\n",
       "      <td>0</td>\n",
       "      <td>1</td>\n",
       "      <td>0</td>\n",
       "      <td>0</td>\n",
       "      <td>0</td>\n",
       "      <td>0</td>\n",
       "      <td>0</td>\n",
       "      <td>0</td>\n",
       "      <td>0</td>\n",
       "      <td>1</td>\n",
       "    </tr>\n",
       "  </tbody>\n",
       "</table>\n",
       "<p>1 rows × 23 columns</p>\n",
       "</div>"
      ],
      "text/plain": [
       "   salary  age  family_members  city_Екатеринбург  city_Киев  city_Краснодар  \\\n",
       "0  120000   35               1                  0          0               0   \n",
       "\n",
       "   city_Минск  city_Москва  city_Новосибирск  city_Омск  ...  city_Ярославль  \\\n",
       "0           0            0                 0          0  ...               0   \n",
       "\n",
       "   vacation_preference_Архитектура  vacation_preference_Ночные клубы  \\\n",
       "0                                1                                 0   \n",
       "\n",
       "   vacation_preference_Пляжный отдых  vacation_preference_Шоппинг  \\\n",
       "0                                  0                            0   \n",
       "\n",
       "   transport_preference_Автомобиль  transport_preference_Космический корабль  \\\n",
       "0                                0                                         0   \n",
       "\n",
       "   transport_preference_Морской транспорт  transport_preference_Поезд  \\\n",
       "0                                       0                           0   \n",
       "\n",
       "   transport_preference_Самолет  \n",
       "0                             1  \n",
       "\n",
       "[1 rows x 23 columns]"
      ]
     },
     "execution_count": 32,
     "metadata": {},
     "output_type": "execute_result"
    }
   ],
   "source": [
    "example_df"
   ]
  },
  {
   "cell_type": "code",
   "execution_count": 33,
   "metadata": {},
   "outputs": [
    {
     "data": {
      "text/plain": [
       "array(['London'], dtype=object)"
      ]
     },
     "execution_count": 33,
     "metadata": {},
     "output_type": "execute_result"
    }
   ],
   "source": [
    "model.predict(example_df)"
   ]
  },
  {
   "cell_type": "code",
   "execution_count": null,
   "metadata": {},
   "outputs": [],
   "source": []
  }
 ],
 "metadata": {
  "kernelspec": {
   "display_name": "Python 3",
   "language": "python",
   "name": "python3"
  },
  "language_info": {
   "codemirror_mode": {
    "name": "ipython",
    "version": 3
   },
   "file_extension": ".py",
   "mimetype": "text/x-python",
   "name": "python",
   "nbconvert_exporter": "python",
   "pygments_lexer": "ipython3",
   "version": "3.7.3"
  }
 },
 "nbformat": 4,
 "nbformat_minor": 4
}
