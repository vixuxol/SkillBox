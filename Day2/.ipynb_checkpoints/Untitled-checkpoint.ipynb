{
 "cells": [
  {
   "cell_type": "markdown",
   "metadata": {},
   "source": [
    "## Подготовка данных для анализа \n",
    "\n",
    "Сначала импортировали библиотеку pandas и загрузили необходимые данные из файла usd_rate.xlsx\n",
    "\n",
    "После этого выделили наблюдения (то есть 14 дней, по которым будет делаться предсказание следующих 7 дней)\n",
    "И выделили ожидаемые значения\n",
    "\n"
   ]
  },
  {
   "cell_type": "code",
   "execution_count": 1,
   "metadata": {},
   "outputs": [],
   "source": [
    "import pandas"
   ]
  },
  {
   "cell_type": "code",
   "execution_count": 2,
   "metadata": {},
   "outputs": [],
   "source": [
    "usd_rate = pandas.read_excel(\"usd_rate.xlsx\")"
   ]
  },
  {
   "cell_type": "code",
   "execution_count": 3,
   "metadata": {},
   "outputs": [],
   "source": [
    "curs = usd_rate.curs"
   ]
  },
  {
   "cell_type": "code",
   "execution_count": 4,
   "metadata": {},
   "outputs": [
    {
     "data": {
      "text/plain": [
       "<matplotlib.axes._subplots.AxesSubplot at 0x2931384a400>"
      ]
     },
     "execution_count": 4,
     "metadata": {},
     "output_type": "execute_result"
    }
   ],
   "source": [
    "curs.plot()"
   ]
  },
  {
   "cell_type": "code",
   "execution_count": 5,
   "metadata": {},
   "outputs": [
    {
     "data": {
      "text/plain": [
       "count    736.000000\n",
       "mean      64.505651\n",
       "std        4.838572\n",
       "min       55.671700\n",
       "25%       61.995325\n",
       "50%       64.294800\n",
       "75%       66.535850\n",
       "max       80.881500\n",
       "Name: curs, dtype: float64"
      ]
     },
     "execution_count": 5,
     "metadata": {},
     "output_type": "execute_result"
    }
   ],
   "source": [
    "curs.describe()"
   ]
  },
  {
   "cell_type": "code",
   "execution_count": 6,
   "metadata": {},
   "outputs": [],
   "source": [
    "# X - входные данные, то на оснвое чего мы делаем предсказание\n",
    "# y - выходные данные, то что мы пытаемся предсказать\n",
    "\n",
    "future_days = 7\n",
    "past_days = 14"
   ]
  },
  {
   "cell_type": "code",
   "execution_count": 7,
   "metadata": {},
   "outputs": [
    {
     "name": "stdout",
     "output_type": "stream",
     "text": [
      "Start = 14, end = 729, total = 715\n"
     ]
    }
   ],
   "source": [
    "start = past_days\n",
    "end = len(curs) - future_days\n",
    "total = end-start\n",
    "print(f\"Start = {start}, end = {end}, total = {total}\")"
   ]
  },
  {
   "cell_type": "code",
   "execution_count": 8,
   "metadata": {},
   "outputs": [],
   "source": [
    "past_X = []\n",
    "future_y = []\n",
    "\n",
    "for i in range(start, end):\n",
    "    X = curs[i-past_days:i] \n",
    "    past_X.append(list(X))\n",
    "    y = curs[i:i+future_days]\n",
    "    future_y.append(list(y))"
   ]
  },
  {
   "cell_type": "code",
   "execution_count": 9,
   "metadata": {},
   "outputs": [
    {
     "name": "stdout",
     "output_type": "stream",
     "text": [
      "['past_0', 'past_1', 'past_2', 'past_3', 'past_4', 'past_5', 'past_6', 'past_7', 'past_8', 'past_9', 'past_10', 'past_11', 'past_12', 'past_13']\n"
     ]
    }
   ],
   "source": [
    "past_columns = []\n",
    "for i in range(past_days):\n",
    "    past_columns.append(f\"past_{i}\")\n",
    "print(past_columns)"
   ]
  },
  {
   "cell_type": "code",
   "execution_count": 10,
   "metadata": {},
   "outputs": [
    {
     "name": "stdout",
     "output_type": "stream",
     "text": [
      "['future_0', 'future_1', 'future_2', 'future_3', 'future_4', 'future_5', 'future_6']\n"
     ]
    }
   ],
   "source": [
    "future_columns = []\n",
    "for i in range(future_days):\n",
    "    future_columns.append(f\"future_{i}\")\n",
    "print(future_columns)"
   ]
  },
  {
   "cell_type": "code",
   "execution_count": 11,
   "metadata": {},
   "outputs": [],
   "source": [
    "df_X = pandas.DataFrame(data=past_X, columns=past_columns)\n",
    "df_y = pandas.DataFrame(data=future_y, columns=future_columns)"
   ]
  },
  {
   "cell_type": "code",
   "execution_count": 12,
   "metadata": {},
   "outputs": [
    {
     "data": {
      "text/html": [
       "<div>\n",
       "<style scoped>\n",
       "    .dataframe tbody tr th:only-of-type {\n",
       "        vertical-align: middle;\n",
       "    }\n",
       "\n",
       "    .dataframe tbody tr th {\n",
       "        vertical-align: top;\n",
       "    }\n",
       "\n",
       "    .dataframe thead th {\n",
       "        text-align: right;\n",
       "    }\n",
       "</style>\n",
       "<table border=\"1\" class=\"dataframe\">\n",
       "  <thead>\n",
       "    <tr style=\"text-align: right;\">\n",
       "      <th></th>\n",
       "      <th>past_0</th>\n",
       "      <th>past_1</th>\n",
       "      <th>past_2</th>\n",
       "      <th>past_3</th>\n",
       "      <th>past_4</th>\n",
       "      <th>past_5</th>\n",
       "      <th>past_6</th>\n",
       "      <th>past_7</th>\n",
       "      <th>past_8</th>\n",
       "      <th>past_9</th>\n",
       "      <th>past_10</th>\n",
       "      <th>past_11</th>\n",
       "      <th>past_12</th>\n",
       "      <th>past_13</th>\n",
       "    </tr>\n",
       "  </thead>\n",
       "  <tbody>\n",
       "    <tr>\n",
       "      <th>0</th>\n",
       "      <td>58.5454</td>\n",
       "      <td>58.0557</td>\n",
       "      <td>57.7817</td>\n",
       "      <td>57.8503</td>\n",
       "      <td>57.3387</td>\n",
       "      <td>57.1411</td>\n",
       "      <td>56.9966</td>\n",
       "      <td>57.1694</td>\n",
       "      <td>57.2656</td>\n",
       "      <td>57.6679</td>\n",
       "      <td>57.7706</td>\n",
       "      <td>57.5336</td>\n",
       "      <td>57.6242</td>\n",
       "      <td>58.0993</td>\n",
       "    </tr>\n",
       "    <tr>\n",
       "      <th>1</th>\n",
       "      <td>58.0557</td>\n",
       "      <td>57.7817</td>\n",
       "      <td>57.8503</td>\n",
       "      <td>57.3387</td>\n",
       "      <td>57.1411</td>\n",
       "      <td>56.9966</td>\n",
       "      <td>57.1694</td>\n",
       "      <td>57.2656</td>\n",
       "      <td>57.6679</td>\n",
       "      <td>57.7706</td>\n",
       "      <td>57.5336</td>\n",
       "      <td>57.6242</td>\n",
       "      <td>58.0993</td>\n",
       "      <td>58.1290</td>\n",
       "    </tr>\n",
       "    <tr>\n",
       "      <th>2</th>\n",
       "      <td>57.7817</td>\n",
       "      <td>57.8503</td>\n",
       "      <td>57.3387</td>\n",
       "      <td>57.1411</td>\n",
       "      <td>56.9966</td>\n",
       "      <td>57.1694</td>\n",
       "      <td>57.2656</td>\n",
       "      <td>57.6679</td>\n",
       "      <td>57.7706</td>\n",
       "      <td>57.5336</td>\n",
       "      <td>57.6242</td>\n",
       "      <td>58.0993</td>\n",
       "      <td>58.1290</td>\n",
       "      <td>58.2242</td>\n",
       "    </tr>\n",
       "    <tr>\n",
       "      <th>3</th>\n",
       "      <td>57.8503</td>\n",
       "      <td>57.3387</td>\n",
       "      <td>57.1411</td>\n",
       "      <td>56.9966</td>\n",
       "      <td>57.1694</td>\n",
       "      <td>57.2656</td>\n",
       "      <td>57.6679</td>\n",
       "      <td>57.7706</td>\n",
       "      <td>57.5336</td>\n",
       "      <td>57.6242</td>\n",
       "      <td>58.0993</td>\n",
       "      <td>58.1290</td>\n",
       "      <td>58.2242</td>\n",
       "      <td>57.6527</td>\n",
       "    </tr>\n",
       "    <tr>\n",
       "      <th>4</th>\n",
       "      <td>57.3387</td>\n",
       "      <td>57.1411</td>\n",
       "      <td>56.9966</td>\n",
       "      <td>57.1694</td>\n",
       "      <td>57.2656</td>\n",
       "      <td>57.6679</td>\n",
       "      <td>57.7706</td>\n",
       "      <td>57.5336</td>\n",
       "      <td>57.6242</td>\n",
       "      <td>58.0993</td>\n",
       "      <td>58.1290</td>\n",
       "      <td>58.2242</td>\n",
       "      <td>57.6527</td>\n",
       "      <td>57.5660</td>\n",
       "    </tr>\n",
       "    <tr>\n",
       "      <th>...</th>\n",
       "      <td>...</td>\n",
       "      <td>...</td>\n",
       "      <td>...</td>\n",
       "      <td>...</td>\n",
       "      <td>...</td>\n",
       "      <td>...</td>\n",
       "      <td>...</td>\n",
       "      <td>...</td>\n",
       "      <td>...</td>\n",
       "      <td>...</td>\n",
       "      <td>...</td>\n",
       "      <td>...</td>\n",
       "      <td>...</td>\n",
       "      <td>...</td>\n",
       "    </tr>\n",
       "    <tr>\n",
       "      <th>710</th>\n",
       "      <td>71.5850</td>\n",
       "      <td>71.9196</td>\n",
       "      <td>72.2348</td>\n",
       "      <td>73.3633</td>\n",
       "      <td>73.4261</td>\n",
       "      <td>74.1586</td>\n",
       "      <td>73.3806</td>\n",
       "      <td>73.2806</td>\n",
       "      <td>73.0397</td>\n",
       "      <td>73.6376</td>\n",
       "      <td>73.7750</td>\n",
       "      <td>73.1522</td>\n",
       "      <td>73.2351</td>\n",
       "      <td>73.6067</td>\n",
       "    </tr>\n",
       "    <tr>\n",
       "      <th>711</th>\n",
       "      <td>71.9196</td>\n",
       "      <td>72.2348</td>\n",
       "      <td>73.3633</td>\n",
       "      <td>73.4261</td>\n",
       "      <td>74.1586</td>\n",
       "      <td>73.3806</td>\n",
       "      <td>73.2806</td>\n",
       "      <td>73.0397</td>\n",
       "      <td>73.6376</td>\n",
       "      <td>73.7750</td>\n",
       "      <td>73.1522</td>\n",
       "      <td>73.2351</td>\n",
       "      <td>73.6067</td>\n",
       "      <td>73.2157</td>\n",
       "    </tr>\n",
       "    <tr>\n",
       "      <th>712</th>\n",
       "      <td>72.2348</td>\n",
       "      <td>73.3633</td>\n",
       "      <td>73.4261</td>\n",
       "      <td>74.1586</td>\n",
       "      <td>73.3806</td>\n",
       "      <td>73.2806</td>\n",
       "      <td>73.0397</td>\n",
       "      <td>73.6376</td>\n",
       "      <td>73.7750</td>\n",
       "      <td>73.1522</td>\n",
       "      <td>73.2351</td>\n",
       "      <td>73.6067</td>\n",
       "      <td>73.2157</td>\n",
       "      <td>72.9676</td>\n",
       "    </tr>\n",
       "    <tr>\n",
       "      <th>713</th>\n",
       "      <td>73.3633</td>\n",
       "      <td>73.4261</td>\n",
       "      <td>74.1586</td>\n",
       "      <td>73.3806</td>\n",
       "      <td>73.2806</td>\n",
       "      <td>73.0397</td>\n",
       "      <td>73.6376</td>\n",
       "      <td>73.7750</td>\n",
       "      <td>73.1522</td>\n",
       "      <td>73.2351</td>\n",
       "      <td>73.6067</td>\n",
       "      <td>73.2157</td>\n",
       "      <td>72.9676</td>\n",
       "      <td>73.4321</td>\n",
       "    </tr>\n",
       "    <tr>\n",
       "      <th>714</th>\n",
       "      <td>73.4261</td>\n",
       "      <td>74.1586</td>\n",
       "      <td>73.3806</td>\n",
       "      <td>73.2806</td>\n",
       "      <td>73.0397</td>\n",
       "      <td>73.6376</td>\n",
       "      <td>73.7750</td>\n",
       "      <td>73.1522</td>\n",
       "      <td>73.2351</td>\n",
       "      <td>73.6067</td>\n",
       "      <td>73.2157</td>\n",
       "      <td>72.9676</td>\n",
       "      <td>73.4321</td>\n",
       "      <td>73.2392</td>\n",
       "    </tr>\n",
       "  </tbody>\n",
       "</table>\n",
       "<p>715 rows × 14 columns</p>\n",
       "</div>"
      ],
      "text/plain": [
       "      past_0   past_1   past_2   past_3   past_4   past_5   past_6   past_7  \\\n",
       "0    58.5454  58.0557  57.7817  57.8503  57.3387  57.1411  56.9966  57.1694   \n",
       "1    58.0557  57.7817  57.8503  57.3387  57.1411  56.9966  57.1694  57.2656   \n",
       "2    57.7817  57.8503  57.3387  57.1411  56.9966  57.1694  57.2656  57.6679   \n",
       "3    57.8503  57.3387  57.1411  56.9966  57.1694  57.2656  57.6679  57.7706   \n",
       "4    57.3387  57.1411  56.9966  57.1694  57.2656  57.6679  57.7706  57.5336   \n",
       "..       ...      ...      ...      ...      ...      ...      ...      ...   \n",
       "710  71.5850  71.9196  72.2348  73.3633  73.4261  74.1586  73.3806  73.2806   \n",
       "711  71.9196  72.2348  73.3633  73.4261  74.1586  73.3806  73.2806  73.0397   \n",
       "712  72.2348  73.3633  73.4261  74.1586  73.3806  73.2806  73.0397  73.6376   \n",
       "713  73.3633  73.4261  74.1586  73.3806  73.2806  73.0397  73.6376  73.7750   \n",
       "714  73.4261  74.1586  73.3806  73.2806  73.0397  73.6376  73.7750  73.1522   \n",
       "\n",
       "      past_8   past_9  past_10  past_11  past_12  past_13  \n",
       "0    57.2656  57.6679  57.7706  57.5336  57.6242  58.0993  \n",
       "1    57.6679  57.7706  57.5336  57.6242  58.0993  58.1290  \n",
       "2    57.7706  57.5336  57.6242  58.0993  58.1290  58.2242  \n",
       "3    57.5336  57.6242  58.0993  58.1290  58.2242  57.6527  \n",
       "4    57.6242  58.0993  58.1290  58.2242  57.6527  57.5660  \n",
       "..       ...      ...      ...      ...      ...      ...  \n",
       "710  73.0397  73.6376  73.7750  73.1522  73.2351  73.6067  \n",
       "711  73.6376  73.7750  73.1522  73.2351  73.6067  73.2157  \n",
       "712  73.7750  73.1522  73.2351  73.6067  73.2157  72.9676  \n",
       "713  73.1522  73.2351  73.6067  73.2157  72.9676  73.4321  \n",
       "714  73.2351  73.6067  73.2157  72.9676  73.4321  73.2392  \n",
       "\n",
       "[715 rows x 14 columns]"
      ]
     },
     "execution_count": 12,
     "metadata": {},
     "output_type": "execute_result"
    }
   ],
   "source": [
    "df_X"
   ]
  },
  {
   "cell_type": "code",
   "execution_count": 13,
   "metadata": {},
   "outputs": [
    {
     "data": {
      "text/html": [
       "<div>\n",
       "<style scoped>\n",
       "    .dataframe tbody tr th:only-of-type {\n",
       "        vertical-align: middle;\n",
       "    }\n",
       "\n",
       "    .dataframe tbody tr th {\n",
       "        vertical-align: top;\n",
       "    }\n",
       "\n",
       "    .dataframe thead th {\n",
       "        text-align: right;\n",
       "    }\n",
       "</style>\n",
       "<table border=\"1\" class=\"dataframe\">\n",
       "  <thead>\n",
       "    <tr style=\"text-align: right;\">\n",
       "      <th></th>\n",
       "      <th>future_0</th>\n",
       "      <th>future_1</th>\n",
       "      <th>future_2</th>\n",
       "      <th>future_3</th>\n",
       "      <th>future_4</th>\n",
       "      <th>future_5</th>\n",
       "      <th>future_6</th>\n",
       "    </tr>\n",
       "  </thead>\n",
       "  <tbody>\n",
       "    <tr>\n",
       "      <th>0</th>\n",
       "      <td>58.1290</td>\n",
       "      <td>58.2242</td>\n",
       "      <td>57.6527</td>\n",
       "      <td>57.5660</td>\n",
       "      <td>57.5186</td>\n",
       "      <td>58.0102</td>\n",
       "      <td>58.4255</td>\n",
       "    </tr>\n",
       "    <tr>\n",
       "      <th>1</th>\n",
       "      <td>58.2242</td>\n",
       "      <td>57.6527</td>\n",
       "      <td>57.5660</td>\n",
       "      <td>57.5186</td>\n",
       "      <td>58.0102</td>\n",
       "      <td>58.4255</td>\n",
       "      <td>58.0169</td>\n",
       "    </tr>\n",
       "    <tr>\n",
       "      <th>2</th>\n",
       "      <td>57.6527</td>\n",
       "      <td>57.5660</td>\n",
       "      <td>57.5186</td>\n",
       "      <td>58.0102</td>\n",
       "      <td>58.4255</td>\n",
       "      <td>58.0169</td>\n",
       "      <td>57.8134</td>\n",
       "    </tr>\n",
       "    <tr>\n",
       "      <th>3</th>\n",
       "      <td>57.5660</td>\n",
       "      <td>57.5186</td>\n",
       "      <td>58.0102</td>\n",
       "      <td>58.4255</td>\n",
       "      <td>58.0169</td>\n",
       "      <td>57.8134</td>\n",
       "      <td>57.9375</td>\n",
       "    </tr>\n",
       "    <tr>\n",
       "      <th>4</th>\n",
       "      <td>57.5186</td>\n",
       "      <td>58.0102</td>\n",
       "      <td>58.4255</td>\n",
       "      <td>58.0169</td>\n",
       "      <td>57.8134</td>\n",
       "      <td>57.9375</td>\n",
       "      <td>57.7832</td>\n",
       "    </tr>\n",
       "    <tr>\n",
       "      <th>...</th>\n",
       "      <td>...</td>\n",
       "      <td>...</td>\n",
       "      <td>...</td>\n",
       "      <td>...</td>\n",
       "      <td>...</td>\n",
       "      <td>...</td>\n",
       "      <td>...</td>\n",
       "    </tr>\n",
       "    <tr>\n",
       "      <th>710</th>\n",
       "      <td>73.2157</td>\n",
       "      <td>72.9676</td>\n",
       "      <td>73.4321</td>\n",
       "      <td>73.2392</td>\n",
       "      <td>73.7711</td>\n",
       "      <td>74.0999</td>\n",
       "      <td>74.4184</td>\n",
       "    </tr>\n",
       "    <tr>\n",
       "      <th>711</th>\n",
       "      <td>72.9676</td>\n",
       "      <td>73.4321</td>\n",
       "      <td>73.2392</td>\n",
       "      <td>73.7711</td>\n",
       "      <td>74.0999</td>\n",
       "      <td>74.4184</td>\n",
       "      <td>74.5126</td>\n",
       "    </tr>\n",
       "    <tr>\n",
       "      <th>712</th>\n",
       "      <td>73.4321</td>\n",
       "      <td>73.2392</td>\n",
       "      <td>73.7711</td>\n",
       "      <td>74.0999</td>\n",
       "      <td>74.4184</td>\n",
       "      <td>74.5126</td>\n",
       "      <td>75.5379</td>\n",
       "    </tr>\n",
       "    <tr>\n",
       "      <th>713</th>\n",
       "      <td>73.2392</td>\n",
       "      <td>73.7711</td>\n",
       "      <td>74.0999</td>\n",
       "      <td>74.4184</td>\n",
       "      <td>74.5126</td>\n",
       "      <td>75.5379</td>\n",
       "      <td>75.2354</td>\n",
       "    </tr>\n",
       "    <tr>\n",
       "      <th>714</th>\n",
       "      <td>73.7711</td>\n",
       "      <td>74.0999</td>\n",
       "      <td>74.4184</td>\n",
       "      <td>74.5126</td>\n",
       "      <td>75.5379</td>\n",
       "      <td>75.2354</td>\n",
       "      <td>74.6382</td>\n",
       "    </tr>\n",
       "  </tbody>\n",
       "</table>\n",
       "<p>715 rows × 7 columns</p>\n",
       "</div>"
      ],
      "text/plain": [
       "     future_0  future_1  future_2  future_3  future_4  future_5  future_6\n",
       "0     58.1290   58.2242   57.6527   57.5660   57.5186   58.0102   58.4255\n",
       "1     58.2242   57.6527   57.5660   57.5186   58.0102   58.4255   58.0169\n",
       "2     57.6527   57.5660   57.5186   58.0102   58.4255   58.0169   57.8134\n",
       "3     57.5660   57.5186   58.0102   58.4255   58.0169   57.8134   57.9375\n",
       "4     57.5186   58.0102   58.4255   58.0169   57.8134   57.9375   57.7832\n",
       "..        ...       ...       ...       ...       ...       ...       ...\n",
       "710   73.2157   72.9676   73.4321   73.2392   73.7711   74.0999   74.4184\n",
       "711   72.9676   73.4321   73.2392   73.7711   74.0999   74.4184   74.5126\n",
       "712   73.4321   73.2392   73.7711   74.0999   74.4184   74.5126   75.5379\n",
       "713   73.2392   73.7711   74.0999   74.4184   74.5126   75.5379   75.2354\n",
       "714   73.7711   74.0999   74.4184   74.5126   75.5379   75.2354   74.6382\n",
       "\n",
       "[715 rows x 7 columns]"
      ]
     },
     "execution_count": 13,
     "metadata": {},
     "output_type": "execute_result"
    }
   ],
   "source": [
    "df_y"
   ]
  },
  {
   "cell_type": "code",
   "execution_count": 14,
   "metadata": {},
   "outputs": [],
   "source": [
    "# Учебник - обучающая выборка (тренировочная)\n",
    "\n",
    "X_train = df_X[:-10]\n",
    "y_train = df_y[:-10]\n",
    "\n",
    "\n",
    "# Экзамен - тестовая выборка (проверочная)\n",
    "\n",
    "X_test = df_X[-10:]\n",
    "y_test = df_y[-10:]"
   ]
  },
  {
   "cell_type": "code",
   "execution_count": 15,
   "metadata": {},
   "outputs": [
    {
     "name": "stdout",
     "output_type": "stream",
     "text": [
      "<class 'pandas.core.frame.DataFrame'>\n",
      "RangeIndex: 705 entries, 0 to 704\n",
      "Data columns (total 14 columns):\n",
      " #   Column   Non-Null Count  Dtype  \n",
      "---  ------   --------------  -----  \n",
      " 0   past_0   705 non-null    float64\n",
      " 1   past_1   705 non-null    float64\n",
      " 2   past_2   705 non-null    float64\n",
      " 3   past_3   705 non-null    float64\n",
      " 4   past_4   705 non-null    float64\n",
      " 5   past_5   705 non-null    float64\n",
      " 6   past_6   705 non-null    float64\n",
      " 7   past_7   705 non-null    float64\n",
      " 8   past_8   705 non-null    float64\n",
      " 9   past_9   705 non-null    float64\n",
      " 10  past_10  705 non-null    float64\n",
      " 11  past_11  705 non-null    float64\n",
      " 12  past_12  705 non-null    float64\n",
      " 13  past_13  705 non-null    float64\n",
      "dtypes: float64(14)\n",
      "memory usage: 77.2 KB\n"
     ]
    }
   ],
   "source": [
    "X_train.info()"
   ]
  },
  {
   "cell_type": "code",
   "execution_count": 16,
   "metadata": {},
   "outputs": [
    {
     "name": "stdout",
     "output_type": "stream",
     "text": [
      "<class 'pandas.core.frame.DataFrame'>\n",
      "RangeIndex: 705 entries, 0 to 704\n",
      "Data columns (total 7 columns):\n",
      " #   Column    Non-Null Count  Dtype  \n",
      "---  ------    --------------  -----  \n",
      " 0   future_0  705 non-null    float64\n",
      " 1   future_1  705 non-null    float64\n",
      " 2   future_2  705 non-null    float64\n",
      " 3   future_3  705 non-null    float64\n",
      " 4   future_4  705 non-null    float64\n",
      " 5   future_5  705 non-null    float64\n",
      " 6   future_6  705 non-null    float64\n",
      "dtypes: float64(7)\n",
      "memory usage: 38.7 KB\n"
     ]
    }
   ],
   "source": [
    "y_train.info()"
   ]
  },
  {
   "cell_type": "markdown",
   "metadata": {},
   "source": [
    "## Выполнение домашнего задания. Пункт 2\n",
    "\n",
    "Попробовать (как угодно) поменять параметры MLPRegressor так чтобы получить ошибку mean_absolute_error сравнимую или меньше чем в эфире (0.28)"
   ]
  },
  {
   "cell_type": "code",
   "execution_count": 17,
   "metadata": {},
   "outputs": [],
   "source": [
    "#импорт необходимых библиотек\n",
    "from sklearn.neural_network import MLPRegressor\n",
    "import matplotlib.pyplot as plt\n",
    "from sklearn.metrics import mean_absolute_error"
   ]
  },
  {
   "cell_type": "code",
   "execution_count": 18,
   "metadata": {},
   "outputs": [
    {
     "name": "stdout",
     "output_type": "stream",
     "text": [
      "MLP mae = 0.2803792849027279\n"
     ]
    },
    {
     "data": {
      "image/png": "[encoded data removed]",
      "text/plain": [
       "<Figure size 432x288 with 1 Axes>"
      ]
     },
     "metadata": {
      "needs_background": "light"
     },
     "output_type": "display_data"
    }
   ],
   "source": [
    "#то, что было в лекции\n",
    "mlp = MLPRegressor(random_state=42, max_iter=1000, hidden_layer_sizes=(100), activation='relu')\n",
    "mlp.fit(X_train, y_train)\n",
    "mlp_prediction = mlp.predict(X_test)[0]\n",
    "plt.plot(mlp_prediction, label=\"MLP Prediction\")\n",
    "plt.plot(y_test.iloc[0], label=\"Real data\")\n",
    "plt.legend()\n",
    "mae = mean_absolute_error(y_test.iloc[0], mlp_prediction)\n",
    "print(f\"MLP mae = {mae}\")"
   ]
  },
  {
   "cell_type": "code",
   "execution_count": 19,
   "metadata": {},
   "outputs": [
    {
     "name": "stdout",
     "output_type": "stream",
     "text": [
      "MLP mae = 0.4671664585082555\n",
      "MLP mae = 0.6662725350608086\n"
     ]
    },
    {
     "data": {
      "image/png": "[encoded data removed]",
      "text/plain": [
       "<Figure size 432x288 with 1 Axes>"
      ]
     },
     "metadata": {
      "needs_background": "light"
     },
     "output_type": "display_data"
    }
   ],
   "source": [
    "#попробуем изменить параметр регуляризации (alpha)\n",
    "mlp = MLPRegressor(random_state=42, max_iter=1000, hidden_layer_sizes=(100), activation='relu', alpha = 0.001)\n",
    "mlp.fit(X_train, y_train)\n",
    "mlp_prediction = mlp.predict(X_test)[0]\n",
    "plt.plot(mlp_prediction, label=\"MLP Prediction 1\")\n",
    "plt.plot(y_test.iloc[0], label=\"Real data\")\n",
    "mae = mean_absolute_error(y_test.iloc[0], mlp_prediction)\n",
    "print(f\"MLP mae = {mae}\")\n",
    "\n",
    "mlp = MLPRegressor(random_state=42, max_iter=1000, hidden_layer_sizes=(100), activation='relu', alpha = 0.00001)\n",
    "mlp.fit(X_train, y_train)\n",
    "mlp_prediction = mlp.predict(X_test)[0]\n",
    "plt.plot(mlp_prediction, label=\"MLP Prediction 2\")\n",
    "plt.legend()\n",
    "mae = mean_absolute_error(y_test.iloc[0], mlp_prediction)\n",
    "print(f\"MLP mae = {mae}\")\n",
    "\n",
    "#Изменение параметра регуляризации в большую и в меньшую сторону не привело ни к чему хорошему. "
   ]
  },
  {
   "cell_type": "code",
   "execution_count": 20,
   "metadata": {},
   "outputs": [
    {
     "name": "stdout",
     "output_type": "stream",
     "text": [
      "MLP mae = 0.4953715049682736\n",
      "MLP mae = 1108.94519189261\n"
     ]
    },
    {
     "data": {
      "image/png": "[encoded data removed]",
      "text/plain": [
       "<Figure size 432x288 with 1 Axes>"
      ]
     },
     "metadata": {
      "needs_background": "light"
     },
     "output_type": "display_data"
    }
   ],
   "source": [
    "#попробуем изменить параметр solver\n",
    "\n",
    "#solver = lbfgs\n",
    "mlp = MLPRegressor(random_state=42, max_iter=1000, hidden_layer_sizes=(100), activation='relu', solver = 'lbfgs')\n",
    "mlp.fit(X_train, y_train)\n",
    "mlp_prediction = mlp.predict(X_test)[0]\n",
    "plt.plot(mlp_prediction, label=\"MLP Prediction 1\")\n",
    "plt.plot(y_test.iloc[0], label=\"Real data\")\n",
    "mae = mean_absolute_error(y_test.iloc[0], mlp_prediction)\n",
    "print(f\"MLP mae = {mae}\")\n",
    "\n",
    "#solver = sgd\n",
    "mlp = MLPRegressor(random_state=42, max_iter=1000, hidden_layer_sizes=(100), activation='relu', solver = 'sgd')\n",
    "mlp.fit(X_train, y_train)\n",
    "mlp_prediction = mlp.predict(X_test)[0]\n",
    "plt.plot(mlp_prediction, label=\"MLP Prediction 2\")\n",
    "plt.legend()\n",
    "mae = mean_absolute_error(y_test.iloc[0], mlp_prediction)\n",
    "print(f\"MLP mae = {mae}\")\n",
    "\n",
    "#Изменение параметра solver не привело ни к чему хорошему"
   ]
  },
  {
   "cell_type": "code",
   "execution_count": 21,
   "metadata": {},
   "outputs": [
    {
     "name": "stdout",
     "output_type": "stream",
     "text": [
      "MLP mae = 911.5148473648426\n",
      "MLP mae = 1570.8744577052307\n"
     ]
    },
    {
     "data": {
      "image/png": "[encoded data removed]",
      "text/plain": [
       "<Figure size 432x288 with 1 Axes>"
      ]
     },
     "metadata": {
      "needs_background": "light"
     },
     "output_type": "display_data"
    }
   ],
   "source": [
    "#попробуем изменить параметр learning_rate (только при условии, что solver = 'sgd')\n",
    "#learning_rate = 'adaptive'\n",
    "mlp = MLPRegressor(random_state=42, max_iter=1000, hidden_layer_sizes=(100), activation='relu', solver = 'sgd', learning_rate = 'adaptive')\n",
    "mlp.fit(X_train, y_train)\n",
    "mlp_prediction = mlp.predict(X_test)[0]\n",
    "plt.plot(mlp_prediction, label=\"MLP Prediction 1\")\n",
    "plt.plot(y_test.iloc[0], label=\"Real data\")\n",
    "mae = mean_absolute_error(y_test.iloc[0], mlp_prediction)\n",
    "print(f\"MLP mae = {mae}\")\n",
    "\n",
    "#learning_rate = invscaling\n",
    "mlp = MLPRegressor(random_state=42, max_iter=1000, hidden_layer_sizes=(100), activation='relu', solver = 'sgd', learning_rate = 'invscaling')\n",
    "mlp.fit(X_train, y_train)\n",
    "mlp_prediction = mlp.predict(X_test)[0]\n",
    "plt.plot(mlp_prediction, label=\"MLP Prediction 2\")\n",
    "plt.legend()\n",
    "mae = mean_absolute_error(y_test.iloc[0], mlp_prediction)\n",
    "print(f\"MLP mae = {mae}\")\n",
    "\n",
    "#Изменение параметра learning_rate не привело ни к чему хорошему"
   ]
  },
  {
   "cell_type": "markdown",
   "metadata": {},
   "source": [
    "Вывод: подбирать вручную различные параметры и их сочетания довольно сложно. Поэтому необходимо автоматизировать этот процесс."
   ]
  },
  {
   "cell_type": "code",
   "execution_count": 22,
   "metadata": {},
   "outputs": [],
   "source": [
    "from sklearn.model_selection import RandomizedSearchCV\n",
    "import numpy as np\n",
    "from sklearn.metrics import make_scorer"
   ]
  },
  {
   "cell_type": "code",
   "execution_count": 23,
   "metadata": {},
   "outputs": [],
   "source": [
    "# Создаем модель, на которой будем искать лучшую комбинацию \n",
    "modelmlp = MLPRegressor(random_state = 42)\n",
    "#задаем метрику\n",
    "scorer_mean = make_scorer(mean_absolute_error, greater_is_better=False)"
   ]
  },
  {
   "cell_type": "code",
   "execution_count": 25,
   "metadata": {},
   "outputs": [],
   "source": [
    "#определяем списки параметров, из которых будем выбирать лучшую комбинацию\n",
    "hidden_layer_sizes = [(int(x),int(y),int(z)) for x in np.logspace(start = 0, stop = 2.2, num = 8) for y in np.logspace(start = 0, stop = 2.2, num = 8) for z in np.logspace(start = 0, stop = 2.2, num = 8)]\n",
    "hidden_layer_sizes.extend((int(x),int(y)) for x in np.logspace(start = 0, stop = 2, num = 25) for y in np.logspace(start = 0, stop = 2, num = 25))\n",
    "hidden_layer_sizes.extend((int(x),) for x in np.logspace(start = 1, stop = 2, num = 1000))    \n",
    "activation = ['logistic', 'tanh', 'relu']\n",
    "learning_rate = ['constant', 'invscaling','adaptive']\n",
    "learning_rate_init = np.arange(0.01, 0.1, 0.01)\n",
    "alpha = np.arange(0.001, 0.1, 0.01)\n",
    "max_iter = np.arange(200, 5000, 100)\n",
    "\n",
    "#данные списки определили в структуру \n",
    "random_grid3 = {'learning_rate': learning_rate,'activation': activation,'learning_rate_init': learning_rate_init,  'hidden_layer_sizes': hidden_layer_sizes, 'alpha': alpha, 'max_iter': max_iter}\n",
    "mlp_random3 = RandomizedSearchCV(estimator = modelmlp, param_distributions = random_grid3, n_iter = 350, n_jobs=-1,random_state = 42)\n"
   ]
  },
  {
   "cell_type": "code",
   "execution_count": 26,
   "metadata": {},
   "outputs": [
    {
     "name": "stderr",
     "output_type": "stream",
     "text": [
      "D:\\Anaconda\\lib\\site-packages\\sklearn\\model_selection\\_split.py:1978: FutureWarning: The default value of cv will change from 3 to 5 in version 0.22. Specify it explicitly to silence this warning.\n",
      "  warnings.warn(CV_WARNING, FutureWarning)\n"
     ]
    },
    {
     "name": "stdout",
     "output_type": "stream",
     "text": [
      "MLPRegressor(activation='relu', alpha=0.020999999999999998, batch_size='auto',\n",
      "             beta_1=0.9, beta_2=0.999, early_stopping=False, epsilon=1e-08,\n",
      "             hidden_layer_sizes=(4, 4), learning_rate='adaptive',\n",
      "             learning_rate_init=0.02, max_iter=4500, momentum=0.9,\n",
      "             n_iter_no_change=10, nesterovs_momentum=True, power_t=0.5,\n",
      "             random_state=42, shuffle=True, solver='adam', tol=0.0001,\n",
      "             validation_fraction=0.1, verbose=False, warm_start=False)\n"
     ]
    }
   ],
   "source": [
    "mlp_random3.fit(X_train, y_train)\n",
    "print(mlp_random3.best_estimator_)"
   ]
  },
  {
   "cell_type": "code",
   "execution_count": 27,
   "metadata": {},
   "outputs": [
    {
     "name": "stdout",
     "output_type": "stream",
     "text": [
      "MLP mae = 0.22339386385912366\n"
     ]
    },
    {
     "data": {
      "image/png": "[encoded data removed]",
      "text/plain": [
       "<Figure size 432x288 with 1 Axes>"
      ]
     },
     "metadata": {
      "needs_background": "light"
     },
     "output_type": "display_data"
    }
   ],
   "source": [
    "#пробуем вызвать функцию с полученными параметрами \n",
    "mlp = MLPRegressor(activation='relu', alpha=0.020999999999999998, batch_size='auto',\n",
    "             beta_1=0.9, beta_2=0.999, early_stopping=False, epsilon=1e-08,\n",
    "             hidden_layer_sizes=(4, 4), learning_rate='adaptive',\n",
    "             learning_rate_init=0.02, max_iter=4500, momentum=0.9,\n",
    "             n_iter_no_change=10, nesterovs_momentum=True, power_t=0.5,\n",
    "             random_state=42, shuffle=True, solver='adam', tol=0.0001,\n",
    "             validation_fraction=0.1, verbose=False, warm_start=False)\n",
    "mlp.fit(X_train, y_train)\n",
    "mlp_prediction = mlp.predict(X_test)[0]\n",
    "plt.plot(mlp_prediction, label=\"MLP Prediction\")\n",
    "plt.plot(y_test.iloc[0], label=\"Real data\")\n",
    "plt.legend()\n",
    "mae = mean_absolute_error(y_test.iloc[0], mlp_prediction)\n",
    "print(f\"MLP mae = {mae}\")"
   ]
  },
  {
   "cell_type": "markdown",
   "metadata": {},
   "source": [
    "## Пункт 3\n",
    "Попробовать три/четыре других алгоритма регрессии из sklearn на данном датасете и добиться на них минимальной ошибки (mean_absolute_error)"
   ]
  },
  {
   "cell_type": "code",
   "execution_count": 30,
   "metadata": {},
   "outputs": [],
   "source": [
    "#первая модель - ExtraTreesRegressor\n",
    "from sklearn.ensemble import ExtraTreesRegressor\n",
    "etr = ExtraTreesRegressor()\n",
    "\n",
    "#и вызовем функцию, которую вызывали выше для нейронной сети\n",
    "#определяем списки параметров, из которых будем выбирать лучшую комбинацию\n",
    "n_estimators = np.arange(100,1000,100)\n",
    "min_samples_leaf = np.arange(2, 100, 10)\n",
    "criterion = ['mse', 'mae']\n",
    "#min_samples_split = np.arange(2,100,10)\n",
    "\n",
    "#данные списки определили в структуру \n",
    "etr_random = {'n_estimators': n_estimators,'min_samples_leaf': min_samples_leaf, 'criterion': criterion, 'min_samples_split': min_samples_split}\n",
    "etr_r = RandomizedSearchCV(estimator = etr, param_distributions = etr_random, n_iter = 350, n_jobs=-1,random_state = 42)\n"
   ]
  },
  {
   "cell_type": "code",
   "execution_count": null,
   "metadata": {},
   "outputs": [],
   "source": [
    "etr_r.fit(X_train, y_train)\n",
    "print(etr_r.best_estimator_)"
   ]
  },
  {
   "cell_type": "code",
   "execution_count": null,
   "metadata": {},
   "outputs": [],
   "source": [
    "#пробуем вызвать функцию с полученными параметрами \n",
    "etr = ExtraTreesRegressor(bootstrap=False, criterion='mse', max_depth=None,\n",
    "                    max_features='auto', max_leaf_nodes=None,\n",
    "                    min_impurity_decrease=0.0, min_impurity_split=None,\n",
    "                    min_samples_leaf=12, min_samples_split=2,\n",
    "                    min_weight_fraction_leaf=0.0, n_estimators=400, n_jobs=None,\n",
    "                    oob_score=False, random_state=None, verbose=0,\n",
    "                    warm_start=False)\n",
    "etr.fit(X_train, y_train)\n",
    "etr_prediction = etr.predict(X_test)[0]\n",
    "plt.plot(etr_prediction, label=\"ExtraTreesRegressor Prediction\")\n",
    "plt.plot(y_test.iloc[0], label=\"Real data\")\n",
    "plt.legend()\n",
    "mae_etr = mean_absolute_error(y_test.iloc[0], etr_prediction)\n",
    "print(f\"MLP mae = {mae_etr}\")"
   ]
  },
  {
   "cell_type": "code",
   "execution_count": null,
   "metadata": {},
   "outputs": [],
   "source": [
    "#вторая модель - GaussianProcessRegressor\n",
    "from sklearn.gaussian_process import GaussianProcessRegressor\n",
    "gaus = GaussianProcessRegressor(random_state = 42)\n",
    "\n",
    "#и вызовем функцию, которую вызывали выше для нейронной сети\n",
    "#определяем списки параметров, из которых будем выбирать лучшую комбинацию\n",
    "optimizer = ['fmin_l_bfgs_b', 'callable'] \n",
    "\n",
    "\n",
    "#данные списки определили в структуру \n",
    "gaus_random = {'optimizer': optimizer}\n",
    "gaus_r = RandomizedSearchCV(estimator = gaus, param_distributions = gaus_random, n_iter = 350, n_jobs=-1,random_state = 42)"
   ]
  },
  {
   "cell_type": "code",
   "execution_count": null,
   "metadata": {},
   "outputs": [],
   "source": [
    "gaus_r.fit(X_train, y_train)\n",
    "print(gaus_r.best_estimator_)"
   ]
  },
  {
   "cell_type": "code",
   "execution_count": null,
   "metadata": {},
   "outputs": [],
   "source": [
    "#пробуем вызвать функцию с полученными параметрами \n",
    "gaus = ExtraTreesRegressor(bootstrap=False, criterion='mse', max_depth=None,\n",
    "                    max_features='auto', max_leaf_nodes=None,\n",
    "                    min_impurity_decrease=0.0, min_impurity_split=None,\n",
    "                    min_samples_leaf=12, min_samples_split=2,\n",
    "                    min_weight_fraction_leaf=0.0, n_estimators=400, n_jobs=None,\n",
    "                    oob_score=False, random_state=None, verbose=0,\n",
    "                    warm_start=False)\n",
    "gaus.fit(X_train, y_train)\n",
    "gaus_prediction = gaus.predict(X_test)[0]\n",
    "plt.plot(gaus_prediction, label=\"GaussianProcessRegressor Prediction\")\n",
    "plt.plot(y_test.iloc[0], label=\"Real data\")\n",
    "plt.legend()\n",
    "mae_gaus = mean_absolute_error(y_test.iloc[0], gaus_prediction)\n",
    "print(f\"MLP mae = {mae_gaus}\")"
   ]
  },
  {
   "cell_type": "code",
   "execution_count": null,
   "metadata": {},
   "outputs": [],
   "source": [
    "#вторая модель - HistGradientBoostingRegressor\n",
    "from sklearn.ensemble import HistGradientBoostingRegressor\n",
    "hgb = HistGradientBoostingRegressor(random_state = 42)\n",
    "\n",
    "#и вызовем функцию, которую вызывали выше для нейронной сети\n",
    "#определяем списки параметров, из которых будем выбирать лучшую комбинацию\n",
    "loss =['least_squares', 'least_absolute_deviation', 'poisson']\n",
    "learning_rate = np.arange(0.001, 0.1, 0.01)\n",
    "max_iter = np.arange(100, 1000, 100)\n",
    "max_leaf_nodes = np.arange(31, 100, 10)\n",
    "\n",
    "#данные списки определили в структуру \n",
    "gaus_random = {'optimizer': optimizer}\n",
    "gaus_r = RandomizedSearchCV(estimator = gaus, param_distributions = gaus_random, n_iter = 350, n_jobs=-1,random_state = 42)"
   ]
  },
  {
   "cell_type": "code",
   "execution_count": null,
   "metadata": {},
   "outputs": [],
   "source": [
    "#построим все четыре модели (нейронную сеть и 3 модели) на едином графике\n",
    "plt.plot(gaus_prediction, label=\"GaussianProcessRegressor Prediction\")\n",
    "plt.plot(etr_prediction, label=\"ExtraTreesRegressor Prediction\")\n",
    "plt.plot(mlp_prediction, label=\"MLP Prediction\")\n",
    "plt.plot(y_test.iloc[0], label=\"Real data\")\n",
    "plt.legend()"
   ]
  }
 ],
 "metadata": {
  "kernelspec": {
   "display_name": "Python 3",
   "language": "python",
   "name": "python3"
  },
  "language_info": {
   "codemirror_mode": {
    "name": "ipython",
    "version": 3
   },
   "file_extension": ".py",
   "mimetype": "text/x-python",
   "name": "python",
   "nbconvert_exporter": "python",
   "pygments_lexer": "ipython3",
   "version": "3.7.3"
  }
 },
 "nbformat": 4,
 "nbformat_minor": 2
}
