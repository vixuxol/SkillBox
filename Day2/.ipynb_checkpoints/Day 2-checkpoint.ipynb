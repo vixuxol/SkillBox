{
 "cells": [
  {
   "cell_type": "code",
   "execution_count": 1,
   "metadata": {},
   "outputs": [],
   "source": [
    "import pandas"
   ]
  },
  {
   "cell_type": "code",
   "execution_count": 3,
   "metadata": {},
   "outputs": [],
   "source": [
    "usd_rate = pandas.read_excel(\"usd_rate.xlsx\")"
   ]
  },
  {
   "cell_type": "code",
   "execution_count": 5,
   "metadata": {},
   "outputs": [],
   "source": [
    "curs = usd_rate.curs"
   ]
  },
  {
   "cell_type": "code",
   "execution_count": 7,
   "metadata": {},
   "outputs": [
    {
     "data": {
      "text/plain": [
       "<matplotlib.axes._subplots.AxesSubplot at 0x136597cc280>"
      ]
     },
     "execution_count": 7,
     "metadata": {},
     "output_type": "execute_result"
    },
    {
     "data": {
      "image/png": "[encoded data removed]",
      "text/plain": [
       "<Figure size 432x288 with 1 Axes>"
      ]
     },
     "metadata": {
      "needs_background": "light"
     },
     "output_type": "display_data"
    }
   ],
   "source": [
    "curs.plot()"
   ]
  },
  {
   "cell_type": "code",
   "execution_count": 8,
   "metadata": {},
   "outputs": [
    {
     "data": {
      "text/plain": [
       "count    736.000000\n",
       "mean      64.505651\n",
       "std        4.838572\n",
       "min       55.671700\n",
       "25%       61.995325\n",
       "50%       64.294800\n",
       "75%       66.535850\n",
       "max       80.881500\n",
       "Name: curs, dtype: float64"
      ]
     },
     "execution_count": 8,
     "metadata": {},
     "output_type": "execute_result"
    }
   ],
   "source": [
    "curs.describe()"
   ]
  },
  {
   "cell_type": "code",
   "execution_count": 9,
   "metadata": {},
   "outputs": [],
   "source": [
    "# X - входные данные, то на оснвое чего мы делаем предсказание\n",
    "# y - выходные данные, то что мы пытаемся предсказать\n",
    "\n",
    "future_days = 7\n",
    "past_days = 14"
   ]
  },
  {
   "cell_type": "code",
   "execution_count": 17,
   "metadata": {},
   "outputs": [
    {
     "name": "stdout",
     "output_type": "stream",
     "text": [
      "Start = 14, end = 729, total = 715\n"
     ]
    }
   ],
   "source": [
    "start = past_days\n",
    "end = len(curs) - future_days\n",
    "total = end-start\n",
    "print(f\"Start = {start}, end = {end}, total = {total}\")"
   ]
  },
  {
   "cell_type": "code",
   "execution_count": 24,
   "metadata": {},
   "outputs": [],
   "source": [
    "past_X = []\n",
    "future_y = []\n",
    "\n",
    "for i in range(start, end):\n",
    "    X = curs[i-past_days:i] \n",
    "    past_X.append(list(X))\n",
    "    y = curs[i:i+future_days]\n",
    "    future_y.append(list(y))"
   ]
  },
  {
   "cell_type": "code",
   "execution_count": 25,
   "metadata": {},
   "outputs": [
    {
     "name": "stdout",
     "output_type": "stream",
     "text": [
      "['past_0', 'past_1', 'past_2', 'past_3', 'past_4', 'past_5', 'past_6', 'past_7', 'past_8', 'past_9', 'past_10', 'past_11', 'past_12', 'past_13']\n"
     ]
    }
   ],
   "source": [
    "past_columns = []\n",
    "for i in range(past_days):\n",
    "    past_columns.append(f\"past_{i}\")\n",
    "print(past_columns)"
   ]
  },
  {
   "cell_type": "code",
   "execution_count": 26,
   "metadata": {},
   "outputs": [
    {
     "name": "stdout",
     "output_type": "stream",
     "text": [
      "['future_0', 'future_1', 'future_2', 'future_3', 'future_4', 'future_5', 'future_6']\n"
     ]
    }
   ],
   "source": [
    "future_columns = []\n",
    "for i in range(future_days):\n",
    "    future_columns.append(f\"future_{i}\")\n",
    "print(future_columns)"
   ]
  },
  {
   "cell_type": "code",
   "execution_count": 31,
   "metadata": {},
   "outputs": [],
   "source": [
    "df_X = pandas.DataFrame(data=past_X, columns=past_columns)"
   ]
  },
  {
   "cell_type": "code",
   "execution_count": 32,
   "metadata": {},
   "outputs": [],
   "source": [
    "df_y = pandas.DataFrame(data=future_y, columns=future_columns)"
   ]
  },
  {
   "cell_type": "code",
   "execution_count": 33,
   "metadata": {},
   "outputs": [
    {
     "data": {
      "text/html": [
       "<div>\n",
       "<style scoped>\n",
       "    .dataframe tbody tr th:only-of-type {\n",
       "        vertical-align: middle;\n",
       "    }\n",
       "\n",
       "    .dataframe tbody tr th {\n",
       "        vertical-align: top;\n",
       "    }\n",
       "\n",
       "    .dataframe thead th {\n",
       "        text-align: right;\n",
       "    }\n",
       "</style>\n",
       "<table border=\"1\" class=\"dataframe\">\n",
       "  <thead>\n",
       "    <tr style=\"text-align: right;\">\n",
       "      <th></th>\n",
       "      <th>past_0</th>\n",
       "      <th>past_1</th>\n",
       "      <th>past_2</th>\n",
       "      <th>past_3</th>\n",
       "      <th>past_4</th>\n",
       "      <th>past_5</th>\n",
       "      <th>past_6</th>\n",
       "      <th>past_7</th>\n",
       "      <th>past_8</th>\n",
       "      <th>past_9</th>\n",
       "      <th>past_10</th>\n",
       "      <th>past_11</th>\n",
       "      <th>past_12</th>\n",
       "      <th>past_13</th>\n",
       "    </tr>\n",
       "  </thead>\n",
       "  <tbody>\n",
       "    <tr>\n",
       "      <th>0</th>\n",
       "      <td>58.5454</td>\n",
       "      <td>58.0557</td>\n",
       "      <td>57.7817</td>\n",
       "      <td>57.8503</td>\n",
       "      <td>57.3387</td>\n",
       "      <td>57.1411</td>\n",
       "      <td>56.9966</td>\n",
       "      <td>57.1694</td>\n",
       "      <td>57.2656</td>\n",
       "      <td>57.6679</td>\n",
       "      <td>57.7706</td>\n",
       "      <td>57.5336</td>\n",
       "      <td>57.6242</td>\n",
       "      <td>58.0993</td>\n",
       "    </tr>\n",
       "    <tr>\n",
       "      <th>1</th>\n",
       "      <td>58.0557</td>\n",
       "      <td>57.7817</td>\n",
       "      <td>57.8503</td>\n",
       "      <td>57.3387</td>\n",
       "      <td>57.1411</td>\n",
       "      <td>56.9966</td>\n",
       "      <td>57.1694</td>\n",
       "      <td>57.2656</td>\n",
       "      <td>57.6679</td>\n",
       "      <td>57.7706</td>\n",
       "      <td>57.5336</td>\n",
       "      <td>57.6242</td>\n",
       "      <td>58.0993</td>\n",
       "      <td>58.1290</td>\n",
       "    </tr>\n",
       "    <tr>\n",
       "      <th>2</th>\n",
       "      <td>57.7817</td>\n",
       "      <td>57.8503</td>\n",
       "      <td>57.3387</td>\n",
       "      <td>57.1411</td>\n",
       "      <td>56.9966</td>\n",
       "      <td>57.1694</td>\n",
       "      <td>57.2656</td>\n",
       "      <td>57.6679</td>\n",
       "      <td>57.7706</td>\n",
       "      <td>57.5336</td>\n",
       "      <td>57.6242</td>\n",
       "      <td>58.0993</td>\n",
       "      <td>58.1290</td>\n",
       "      <td>58.2242</td>\n",
       "    </tr>\n",
       "    <tr>\n",
       "      <th>3</th>\n",
       "      <td>57.8503</td>\n",
       "      <td>57.3387</td>\n",
       "      <td>57.1411</td>\n",
       "      <td>56.9966</td>\n",
       "      <td>57.1694</td>\n",
       "      <td>57.2656</td>\n",
       "      <td>57.6679</td>\n",
       "      <td>57.7706</td>\n",
       "      <td>57.5336</td>\n",
       "      <td>57.6242</td>\n",
       "      <td>58.0993</td>\n",
       "      <td>58.1290</td>\n",
       "      <td>58.2242</td>\n",
       "      <td>57.6527</td>\n",
       "    </tr>\n",
       "    <tr>\n",
       "      <th>4</th>\n",
       "      <td>57.3387</td>\n",
       "      <td>57.1411</td>\n",
       "      <td>56.9966</td>\n",
       "      <td>57.1694</td>\n",
       "      <td>57.2656</td>\n",
       "      <td>57.6679</td>\n",
       "      <td>57.7706</td>\n",
       "      <td>57.5336</td>\n",
       "      <td>57.6242</td>\n",
       "      <td>58.0993</td>\n",
       "      <td>58.1290</td>\n",
       "      <td>58.2242</td>\n",
       "      <td>57.6527</td>\n",
       "      <td>57.5660</td>\n",
       "    </tr>\n",
       "    <tr>\n",
       "      <th>...</th>\n",
       "      <td>...</td>\n",
       "      <td>...</td>\n",
       "      <td>...</td>\n",
       "      <td>...</td>\n",
       "      <td>...</td>\n",
       "      <td>...</td>\n",
       "      <td>...</td>\n",
       "      <td>...</td>\n",
       "      <td>...</td>\n",
       "      <td>...</td>\n",
       "      <td>...</td>\n",
       "      <td>...</td>\n",
       "      <td>...</td>\n",
       "      <td>...</td>\n",
       "    </tr>\n",
       "    <tr>\n",
       "      <th>710</th>\n",
       "      <td>71.5850</td>\n",
       "      <td>71.9196</td>\n",
       "      <td>72.2348</td>\n",
       "      <td>73.3633</td>\n",
       "      <td>73.4261</td>\n",
       "      <td>74.1586</td>\n",
       "      <td>73.3806</td>\n",
       "      <td>73.2806</td>\n",
       "      <td>73.0397</td>\n",
       "      <td>73.6376</td>\n",
       "      <td>73.7750</td>\n",
       "      <td>73.1522</td>\n",
       "      <td>73.2351</td>\n",
       "      <td>73.6067</td>\n",
       "    </tr>\n",
       "    <tr>\n",
       "      <th>711</th>\n",
       "      <td>71.9196</td>\n",
       "      <td>72.2348</td>\n",
       "      <td>73.3633</td>\n",
       "      <td>73.4261</td>\n",
       "      <td>74.1586</td>\n",
       "      <td>73.3806</td>\n",
       "      <td>73.2806</td>\n",
       "      <td>73.0397</td>\n",
       "      <td>73.6376</td>\n",
       "      <td>73.7750</td>\n",
       "      <td>73.1522</td>\n",
       "      <td>73.2351</td>\n",
       "      <td>73.6067</td>\n",
       "      <td>73.2157</td>\n",
       "    </tr>\n",
       "    <tr>\n",
       "      <th>712</th>\n",
       "      <td>72.2348</td>\n",
       "      <td>73.3633</td>\n",
       "      <td>73.4261</td>\n",
       "      <td>74.1586</td>\n",
       "      <td>73.3806</td>\n",
       "      <td>73.2806</td>\n",
       "      <td>73.0397</td>\n",
       "      <td>73.6376</td>\n",
       "      <td>73.7750</td>\n",
       "      <td>73.1522</td>\n",
       "      <td>73.2351</td>\n",
       "      <td>73.6067</td>\n",
       "      <td>73.2157</td>\n",
       "      <td>72.9676</td>\n",
       "    </tr>\n",
       "    <tr>\n",
       "      <th>713</th>\n",
       "      <td>73.3633</td>\n",
       "      <td>73.4261</td>\n",
       "      <td>74.1586</td>\n",
       "      <td>73.3806</td>\n",
       "      <td>73.2806</td>\n",
       "      <td>73.0397</td>\n",
       "      <td>73.6376</td>\n",
       "      <td>73.7750</td>\n",
       "      <td>73.1522</td>\n",
       "      <td>73.2351</td>\n",
       "      <td>73.6067</td>\n",
       "      <td>73.2157</td>\n",
       "      <td>72.9676</td>\n",
       "      <td>73.4321</td>\n",
       "    </tr>\n",
       "    <tr>\n",
       "      <th>714</th>\n",
       "      <td>73.4261</td>\n",
       "      <td>74.1586</td>\n",
       "      <td>73.3806</td>\n",
       "      <td>73.2806</td>\n",
       "      <td>73.0397</td>\n",
       "      <td>73.6376</td>\n",
       "      <td>73.7750</td>\n",
       "      <td>73.1522</td>\n",
       "      <td>73.2351</td>\n",
       "      <td>73.6067</td>\n",
       "      <td>73.2157</td>\n",
       "      <td>72.9676</td>\n",
       "      <td>73.4321</td>\n",
       "      <td>73.2392</td>\n",
       "    </tr>\n",
       "  </tbody>\n",
       "</table>\n",
       "<p>715 rows × 14 columns</p>\n",
       "</div>"
      ],
      "text/plain": [
       "      past_0   past_1   past_2   past_3   past_4   past_5   past_6   past_7  \\\n",
       "0    58.5454  58.0557  57.7817  57.8503  57.3387  57.1411  56.9966  57.1694   \n",
       "1    58.0557  57.7817  57.8503  57.3387  57.1411  56.9966  57.1694  57.2656   \n",
       "2    57.7817  57.8503  57.3387  57.1411  56.9966  57.1694  57.2656  57.6679   \n",
       "3    57.8503  57.3387  57.1411  56.9966  57.1694  57.2656  57.6679  57.7706   \n",
       "4    57.3387  57.1411  56.9966  57.1694  57.2656  57.6679  57.7706  57.5336   \n",
       "..       ...      ...      ...      ...      ...      ...      ...      ...   \n",
       "710  71.5850  71.9196  72.2348  73.3633  73.4261  74.1586  73.3806  73.2806   \n",
       "711  71.9196  72.2348  73.3633  73.4261  74.1586  73.3806  73.2806  73.0397   \n",
       "712  72.2348  73.3633  73.4261  74.1586  73.3806  73.2806  73.0397  73.6376   \n",
       "713  73.3633  73.4261  74.1586  73.3806  73.2806  73.0397  73.6376  73.7750   \n",
       "714  73.4261  74.1586  73.3806  73.2806  73.0397  73.6376  73.7750  73.1522   \n",
       "\n",
       "      past_8   past_9  past_10  past_11  past_12  past_13  \n",
       "0    57.2656  57.6679  57.7706  57.5336  57.6242  58.0993  \n",
       "1    57.6679  57.7706  57.5336  57.6242  58.0993  58.1290  \n",
       "2    57.7706  57.5336  57.6242  58.0993  58.1290  58.2242  \n",
       "3    57.5336  57.6242  58.0993  58.1290  58.2242  57.6527  \n",
       "4    57.6242  58.0993  58.1290  58.2242  57.6527  57.5660  \n",
       "..       ...      ...      ...      ...      ...      ...  \n",
       "710  73.0397  73.6376  73.7750  73.1522  73.2351  73.6067  \n",
       "711  73.6376  73.7750  73.1522  73.2351  73.6067  73.2157  \n",
       "712  73.7750  73.1522  73.2351  73.6067  73.2157  72.9676  \n",
       "713  73.1522  73.2351  73.6067  73.2157  72.9676  73.4321  \n",
       "714  73.2351  73.6067  73.2157  72.9676  73.4321  73.2392  \n",
       "\n",
       "[715 rows x 14 columns]"
      ]
     },
     "execution_count": 33,
     "metadata": {},
     "output_type": "execute_result"
    }
   ],
   "source": [
    "df_X"
   ]
  },
  {
   "cell_type": "code",
   "execution_count": 34,
   "metadata": {},
   "outputs": [
    {
     "data": {
      "text/html": [
       "<div>\n",
       "<style scoped>\n",
       "    .dataframe tbody tr th:only-of-type {\n",
       "        vertical-align: middle;\n",
       "    }\n",
       "\n",
       "    .dataframe tbody tr th {\n",
       "        vertical-align: top;\n",
       "    }\n",
       "\n",
       "    .dataframe thead th {\n",
       "        text-align: right;\n",
       "    }\n",
       "</style>\n",
       "<table border=\"1\" class=\"dataframe\">\n",
       "  <thead>\n",
       "    <tr style=\"text-align: right;\">\n",
       "      <th></th>\n",
       "      <th>future_0</th>\n",
       "      <th>future_1</th>\n",
       "      <th>future_2</th>\n",
       "      <th>future_3</th>\n",
       "      <th>future_4</th>\n",
       "      <th>future_5</th>\n",
       "      <th>future_6</th>\n",
       "    </tr>\n",
       "  </thead>\n",
       "  <tbody>\n",
       "    <tr>\n",
       "      <th>0</th>\n",
       "      <td>58.1290</td>\n",
       "      <td>58.2242</td>\n",
       "      <td>57.6527</td>\n",
       "      <td>57.5660</td>\n",
       "      <td>57.5186</td>\n",
       "      <td>58.0102</td>\n",
       "      <td>58.4255</td>\n",
       "    </tr>\n",
       "    <tr>\n",
       "      <th>1</th>\n",
       "      <td>58.2242</td>\n",
       "      <td>57.6527</td>\n",
       "      <td>57.5660</td>\n",
       "      <td>57.5186</td>\n",
       "      <td>58.0102</td>\n",
       "      <td>58.4255</td>\n",
       "      <td>58.0169</td>\n",
       "    </tr>\n",
       "    <tr>\n",
       "      <th>2</th>\n",
       "      <td>57.6527</td>\n",
       "      <td>57.5660</td>\n",
       "      <td>57.5186</td>\n",
       "      <td>58.0102</td>\n",
       "      <td>58.4255</td>\n",
       "      <td>58.0169</td>\n",
       "      <td>57.8134</td>\n",
       "    </tr>\n",
       "    <tr>\n",
       "      <th>3</th>\n",
       "      <td>57.5660</td>\n",
       "      <td>57.5186</td>\n",
       "      <td>58.0102</td>\n",
       "      <td>58.4255</td>\n",
       "      <td>58.0169</td>\n",
       "      <td>57.8134</td>\n",
       "      <td>57.9375</td>\n",
       "    </tr>\n",
       "    <tr>\n",
       "      <th>4</th>\n",
       "      <td>57.5186</td>\n",
       "      <td>58.0102</td>\n",
       "      <td>58.4255</td>\n",
       "      <td>58.0169</td>\n",
       "      <td>57.8134</td>\n",
       "      <td>57.9375</td>\n",
       "      <td>57.7832</td>\n",
       "    </tr>\n",
       "    <tr>\n",
       "      <th>...</th>\n",
       "      <td>...</td>\n",
       "      <td>...</td>\n",
       "      <td>...</td>\n",
       "      <td>...</td>\n",
       "      <td>...</td>\n",
       "      <td>...</td>\n",
       "      <td>...</td>\n",
       "    </tr>\n",
       "    <tr>\n",
       "      <th>710</th>\n",
       "      <td>73.2157</td>\n",
       "      <td>72.9676</td>\n",
       "      <td>73.4321</td>\n",
       "      <td>73.2392</td>\n",
       "      <td>73.7711</td>\n",
       "      <td>74.0999</td>\n",
       "      <td>74.4184</td>\n",
       "    </tr>\n",
       "    <tr>\n",
       "      <th>711</th>\n",
       "      <td>72.9676</td>\n",
       "      <td>73.4321</td>\n",
       "      <td>73.2392</td>\n",
       "      <td>73.7711</td>\n",
       "      <td>74.0999</td>\n",
       "      <td>74.4184</td>\n",
       "      <td>74.5126</td>\n",
       "    </tr>\n",
       "    <tr>\n",
       "      <th>712</th>\n",
       "      <td>73.4321</td>\n",
       "      <td>73.2392</td>\n",
       "      <td>73.7711</td>\n",
       "      <td>74.0999</td>\n",
       "      <td>74.4184</td>\n",
       "      <td>74.5126</td>\n",
       "      <td>75.5379</td>\n",
       "    </tr>\n",
       "    <tr>\n",
       "      <th>713</th>\n",
       "      <td>73.2392</td>\n",
       "      <td>73.7711</td>\n",
       "      <td>74.0999</td>\n",
       "      <td>74.4184</td>\n",
       "      <td>74.5126</td>\n",
       "      <td>75.5379</td>\n",
       "      <td>75.2354</td>\n",
       "    </tr>\n",
       "    <tr>\n",
       "      <th>714</th>\n",
       "      <td>73.7711</td>\n",
       "      <td>74.0999</td>\n",
       "      <td>74.4184</td>\n",
       "      <td>74.5126</td>\n",
       "      <td>75.5379</td>\n",
       "      <td>75.2354</td>\n",
       "      <td>74.6382</td>\n",
       "    </tr>\n",
       "  </tbody>\n",
       "</table>\n",
       "<p>715 rows × 7 columns</p>\n",
       "</div>"
      ],
      "text/plain": [
       "     future_0  future_1  future_2  future_3  future_4  future_5  future_6\n",
       "0     58.1290   58.2242   57.6527   57.5660   57.5186   58.0102   58.4255\n",
       "1     58.2242   57.6527   57.5660   57.5186   58.0102   58.4255   58.0169\n",
       "2     57.6527   57.5660   57.5186   58.0102   58.4255   58.0169   57.8134\n",
       "3     57.5660   57.5186   58.0102   58.4255   58.0169   57.8134   57.9375\n",
       "4     57.5186   58.0102   58.4255   58.0169   57.8134   57.9375   57.7832\n",
       "..        ...       ...       ...       ...       ...       ...       ...\n",
       "710   73.2157   72.9676   73.4321   73.2392   73.7711   74.0999   74.4184\n",
       "711   72.9676   73.4321   73.2392   73.7711   74.0999   74.4184   74.5126\n",
       "712   73.4321   73.2392   73.7711   74.0999   74.4184   74.5126   75.5379\n",
       "713   73.2392   73.7711   74.0999   74.4184   74.5126   75.5379   75.2354\n",
       "714   73.7711   74.0999   74.4184   74.5126   75.5379   75.2354   74.6382\n",
       "\n",
       "[715 rows x 7 columns]"
      ]
     },
     "execution_count": 34,
     "metadata": {},
     "output_type": "execute_result"
    }
   ],
   "source": [
    "df_y"
   ]
  },
  {
   "cell_type": "code",
   "execution_count": 41,
   "metadata": {},
   "outputs": [],
   "source": [
    "# 1. Обучить модель\n",
    "# Учебник - обучающая выборка (тренировочная)\n",
    "\n",
    "X_train = df_X[:-10]\n",
    "y_train = df_y[:-10]\n",
    "\n",
    "# 2. Проверить насколько хорошо она обучилась\n",
    "# Экзамен - тестовая выборка (проверочная)\n",
    "\n",
    "X_test = df_X[-10:]\n",
    "y_test = df_y[-10:]"
   ]
  },
  {
   "cell_type": "code",
   "execution_count": 42,
   "metadata": {},
   "outputs": [],
   "source": [
    "# Регрессия - прогнозирование конкрентного значения величины (не дискретной)\n",
    "# Классификация - предсказание принадлежности к ограниченному кол-ву классов (дискретное значение)"
   ]
  },
  {
   "cell_type": "code",
   "execution_count": 64,
   "metadata": {},
   "outputs": [],
   "source": [
    "from sklearn.ensemble import RandomForestRegressor\n",
    "import matplotlib.pyplot as plt\n",
    "from sklearn.metrics import mean_absolute_error"
   ]
  },
  {
   "cell_type": "code",
   "execution_count": 66,
   "metadata": {},
   "outputs": [
    {
     "data": {
      "text/plain": [
       "0.3798163371426223"
      ]
     },
     "execution_count": 66,
     "metadata": {},
     "output_type": "execute_result"
    },
    {
     "data": {
      "image/png": "[encoded data removed]",
      "text/plain": [
       "<Figure size 432x288 with 1 Axes>"
      ]
     },
     "metadata": {
      "needs_background": "light"
     },
     "output_type": "display_data"
    }
   ],
   "source": [
    "forest = RandomForestRegressor(n_estimators=5000)\n",
    "forest.fit(X_train, y_train)\n",
    "forest_prediction = forest.predict(X_test)[0]\n",
    "plt.plot(forest_prediction, label=\"Prediction\")\n",
    "plt.plot(y_test.iloc[0], label=\"Real data\")\n",
    "plt.legend()\n",
    "mean_absolute_error(y_test.iloc[0], forest_prediction)"
   ]
  },
  {
   "cell_type": "code",
   "execution_count": 57,
   "metadata": {},
   "outputs": [],
   "source": []
  },
  {
   "cell_type": "code",
   "execution_count": 58,
   "metadata": {},
   "outputs": [
    {
     "data": {
      "text/plain": [
       "0.44807799999998316"
      ]
     },
     "execution_count": 58,
     "metadata": {},
     "output_type": "execute_result"
    }
   ],
   "source": []
  },
  {
   "cell_type": "code",
   "execution_count": 59,
   "metadata": {},
   "outputs": [],
   "source": [
    "from sklearn.neighbors import KNeighborsRegressor"
   ]
  },
  {
   "cell_type": "code",
   "execution_count": 71,
   "metadata": {},
   "outputs": [
    {
     "name": "stdout",
     "output_type": "stream",
     "text": [
      "KNN mae = 0.25745999999999875\n"
     ]
    },
    {
     "data": {
      "image/png": "[encoded data removed]",
      "text/plain": [
       "<Figure size 432x288 with 1 Axes>"
      ]
     },
     "metadata": {
      "needs_background": "light"
     },
     "output_type": "display_data"
    }
   ],
   "source": [
    "knn = KNeighborsRegressor(n_neighbors=5)\n",
    "knn.fit(X_train, y_train)\n",
    "knn_prediction = knn.predict(X_test)[0]\n",
    "plt.plot(knn_prediction, label=\"KNN Prediction\")\n",
    "plt.plot(y_test.iloc[0], label=\"Real data\")\n",
    "plt.legend()\n",
    "mae = mean_absolute_error(y_test.iloc[0], knn_prediction)\n",
    "print(f\"KNN mae = {mae}\")"
   ]
  },
  {
   "cell_type": "code",
   "execution_count": 72,
   "metadata": {},
   "outputs": [],
   "source": [
    "from sklearn.neural_network import MLPRegressor"
   ]
  },
  {
   "cell_type": "code",
   "execution_count": 82,
   "metadata": {},
   "outputs": [
    {
     "name": "stdout",
     "output_type": "stream",
     "text": [
      "MLP mae = 0.2803792849027279\n"
     ]
    },
    {
     "data": {
      "image/png": "[encoded data removed]",
      "text/plain": [
       "<Figure size 432x288 with 1 Axes>"
      ]
     },
     "metadata": {
      "needs_background": "light"
     },
     "output_type": "display_data"
    }
   ],
   "source": [
    "mlp = MLPRegressor(random_state=42, max_iter=1000, hidden_layer_sizes=(100), activation='relu')\n",
    "mlp.fit(X_train, y_train)\n",
    "mlp_prediction = mlp.predict(X_test)[0]\n",
    "plt.plot(mlp_prediction, label=\"MLP Prediction\")\n",
    "plt.plot(y_test.iloc[0], label=\"Real data\")\n",
    "plt.legend()\n",
    "mae = mean_absolute_error(y_test.iloc[0], mlp_prediction)\n",
    "print(f\"MLP mae = {mae}\")"
   ]
  },
  {
   "cell_type": "code",
   "execution_count": 83,
   "metadata": {},
   "outputs": [],
   "source": [
    "import pickle"
   ]
  },
  {
   "cell_type": "code",
   "execution_count": 84,
   "metadata": {},
   "outputs": [],
   "source": [
    "pickle.dump(mlp, open(\"mlp.model\", \"wb\"))"
   ]
  },
  {
   "cell_type": "markdown",
   "metadata": {},
   "source": [
    "## Домашнее задание\n",
    "\n",
    "1. Ознакомиться с док. по sklearn \n",
    "https://scikit-learn.org/stable/modules/classes.html\n",
    "\n",
    "2. Попробовать (как угодно) поменять параметры MLPRegressor так чтобы получить ошибку mean_absolute_error сравнимую или меньше чем в эфире (0.28)\n",
    "\n",
    "3. Попробовать три/четыре других алгоритма регрессии из sklearn на данном датасете и добиться на них минимальной ошибки (mean_absolute_error)\n",
    "\n",
    "## Важно\n",
    "\n",
    "- Использовать датасет из эфира (в ТГ будет файл)\n",
    "- Использовать random_state = 42\n",
    "\n",
    "## Критерии оценки ДЗ\n",
    "\n",
    "1. Самая низкая ошибка - НЕ является критерием успешности ДЗ\n",
    "2. Очень важна понятность - комментарии и объяснения что вы делаете и зачем\n",
    "3. Графики и визуализация https://matplotlib.org/3.2.1/gallery/index.html\n",
    "4. Выводы \n",
    "\n",
    "\n",
    "Ссылка куда присылать - в ТГ чате\n",
    "\n",
    "Как прислать? В Меню File->Download As->HTML и получившийся файл нам прислать."
   ]
  },
  {
   "cell_type": "code",
   "execution_count": null,
   "metadata": {},
   "outputs": [],
   "source": []
  }
 ],
 "metadata": {
  "kernelspec": {
   "display_name": "Python 3",
   "language": "python",
   "name": "python3"
  },
  "language_info": {
   "codemirror_mode": {
    "name": "ipython",
    "version": 3
   },
   "file_extension": ".py",
   "mimetype": "text/x-python",
   "name": "python",
   "nbconvert_exporter": "python",
   "pygments_lexer": "ipython3",
   "version": "3.7.3"
  }
 },
 "nbformat": 4,
 "nbformat_minor": 4
}
